{
 "cells": [
  {
   "cell_type": "markdown",
   "metadata": {},
   "source": [
    "# Семинар 5. Групповая обработка и слияние наборов данных в Pandas\n",
    "\n",
    "На этом семинаре мы поработаем с данными о продажах глобального интернет-магазина, реализующего офисные товары и технику. Цель занятия - научиться использовать групповую обработку в Pandas и соединять таблицы данных."
   ]
  },
  {
   "cell_type": "markdown",
   "metadata": {},
   "source": [
    "## Загрузка данных"
   ]
  },
  {
   "cell_type": "code",
   "execution_count": 2,
   "metadata": {},
   "outputs": [],
   "source": [
    "import pandas as pd\n",
    "import numpy as np\n",
    "import matplotlib.pyplot as plt\n",
    "%matplotlib inline"
   ]
  },
  {
   "cell_type": "markdown",
   "metadata": {},
   "source": [
    "Загрузим данные:"
   ]
  },
  {
   "cell_type": "code",
   "execution_count": 3,
   "metadata": {},
   "outputs": [
    {
     "output_type": "execute_result",
     "data": {
      "text/plain": "   row_id                  order_id  order_date   ship_date     ship_mode  \\\n0   40098  CA-2014-AB10015140-41954  2014-11-11  2014-11-13   First Class   \n1   26341    IN-2014-JR162107-41675  2014-02-05  2014-02-07  Second Class   \n2   25330    IN-2014-CR127307-41929  2014-10-17  2014-10-18   First Class   \n3   13524   ES-2014-KM1637548-41667  2014-01-28  2014-01-30   First Class   \n4   47221   SG-2014-RH9495111-41948  2014-11-05  2014-11-06      Same Day   \n\n    customer_id     customer_name      segment  postal_code           city  \\\n0  AB-100151402     Aaron Bergman     Consumer      73120.0  Oklahoma City   \n1     JR-162107     Justin Ritter    Corporate          NaN     Wollongong   \n2     CR-127307      Craig Reiter     Consumer          NaN       Brisbane   \n3    KM-1637548  Katherine Murray  Home Office          NaN         Berlin   \n4    RH-9495111       Rick Hansen     Consumer          NaN          Dakar   \n\n   ...   product_id    category sub_category  \\\n0  ...  TEC-PH-5816  Technology       Phones   \n1  ...  FUR-CH-5379   Furniture       Chairs   \n2  ...  TEC-PH-5356  Technology       Phones   \n3  ...  TEC-PH-5267  Technology       Phones   \n4  ...  TEC-CO-6011  Technology      Copiers   \n\n                                product_name     sales quantity discount  \\\n0                           Samsung Convoy 3   221.980        2      0.0   \n1  Novimex Executive Leather Armchair, Black  3709.395        9      0.1   \n2          Nokia Smart Phone, with Caller ID  5175.171        9      0.1   \n3             Motorola Smart Phone, Cordless  2892.510        5      0.1   \n4             Sharp Wireless Fax, High-Speed  2832.960        8      0.0   \n\n     profit  shipping_cost  order_priority  \n0   62.1544          40.77            High  \n1 -288.7650         923.63        Critical  \n2  919.9710         915.49          Medium  \n3  -96.5400         910.16          Medium  \n4  311.5200         903.04        Critical  \n\n[5 rows x 24 columns]",
      "text/html": "<div>\n<style scoped>\n    .dataframe tbody tr th:only-of-type {\n        vertical-align: middle;\n    }\n\n    .dataframe tbody tr th {\n        vertical-align: top;\n    }\n\n    .dataframe thead th {\n        text-align: right;\n    }\n</style>\n<table border=\"1\" class=\"dataframe\">\n  <thead>\n    <tr style=\"text-align: right;\">\n      <th></th>\n      <th>row_id</th>\n      <th>order_id</th>\n      <th>order_date</th>\n      <th>ship_date</th>\n      <th>ship_mode</th>\n      <th>customer_id</th>\n      <th>customer_name</th>\n      <th>segment</th>\n      <th>postal_code</th>\n      <th>city</th>\n      <th>...</th>\n      <th>product_id</th>\n      <th>category</th>\n      <th>sub_category</th>\n      <th>product_name</th>\n      <th>sales</th>\n      <th>quantity</th>\n      <th>discount</th>\n      <th>profit</th>\n      <th>shipping_cost</th>\n      <th>order_priority</th>\n    </tr>\n  </thead>\n  <tbody>\n    <tr>\n      <th>0</th>\n      <td>40098</td>\n      <td>CA-2014-AB10015140-41954</td>\n      <td>2014-11-11</td>\n      <td>2014-11-13</td>\n      <td>First Class</td>\n      <td>AB-100151402</td>\n      <td>Aaron Bergman</td>\n      <td>Consumer</td>\n      <td>73120.0</td>\n      <td>Oklahoma City</td>\n      <td>...</td>\n      <td>TEC-PH-5816</td>\n      <td>Technology</td>\n      <td>Phones</td>\n      <td>Samsung Convoy 3</td>\n      <td>221.980</td>\n      <td>2</td>\n      <td>0.0</td>\n      <td>62.1544</td>\n      <td>40.77</td>\n      <td>High</td>\n    </tr>\n    <tr>\n      <th>1</th>\n      <td>26341</td>\n      <td>IN-2014-JR162107-41675</td>\n      <td>2014-02-05</td>\n      <td>2014-02-07</td>\n      <td>Second Class</td>\n      <td>JR-162107</td>\n      <td>Justin Ritter</td>\n      <td>Corporate</td>\n      <td>NaN</td>\n      <td>Wollongong</td>\n      <td>...</td>\n      <td>FUR-CH-5379</td>\n      <td>Furniture</td>\n      <td>Chairs</td>\n      <td>Novimex Executive Leather Armchair, Black</td>\n      <td>3709.395</td>\n      <td>9</td>\n      <td>0.1</td>\n      <td>-288.7650</td>\n      <td>923.63</td>\n      <td>Critical</td>\n    </tr>\n    <tr>\n      <th>2</th>\n      <td>25330</td>\n      <td>IN-2014-CR127307-41929</td>\n      <td>2014-10-17</td>\n      <td>2014-10-18</td>\n      <td>First Class</td>\n      <td>CR-127307</td>\n      <td>Craig Reiter</td>\n      <td>Consumer</td>\n      <td>NaN</td>\n      <td>Brisbane</td>\n      <td>...</td>\n      <td>TEC-PH-5356</td>\n      <td>Technology</td>\n      <td>Phones</td>\n      <td>Nokia Smart Phone, with Caller ID</td>\n      <td>5175.171</td>\n      <td>9</td>\n      <td>0.1</td>\n      <td>919.9710</td>\n      <td>915.49</td>\n      <td>Medium</td>\n    </tr>\n    <tr>\n      <th>3</th>\n      <td>13524</td>\n      <td>ES-2014-KM1637548-41667</td>\n      <td>2014-01-28</td>\n      <td>2014-01-30</td>\n      <td>First Class</td>\n      <td>KM-1637548</td>\n      <td>Katherine Murray</td>\n      <td>Home Office</td>\n      <td>NaN</td>\n      <td>Berlin</td>\n      <td>...</td>\n      <td>TEC-PH-5267</td>\n      <td>Technology</td>\n      <td>Phones</td>\n      <td>Motorola Smart Phone, Cordless</td>\n      <td>2892.510</td>\n      <td>5</td>\n      <td>0.1</td>\n      <td>-96.5400</td>\n      <td>910.16</td>\n      <td>Medium</td>\n    </tr>\n    <tr>\n      <th>4</th>\n      <td>47221</td>\n      <td>SG-2014-RH9495111-41948</td>\n      <td>2014-11-05</td>\n      <td>2014-11-06</td>\n      <td>Same Day</td>\n      <td>RH-9495111</td>\n      <td>Rick Hansen</td>\n      <td>Consumer</td>\n      <td>NaN</td>\n      <td>Dakar</td>\n      <td>...</td>\n      <td>TEC-CO-6011</td>\n      <td>Technology</td>\n      <td>Copiers</td>\n      <td>Sharp Wireless Fax, High-Speed</td>\n      <td>2832.960</td>\n      <td>8</td>\n      <td>0.0</td>\n      <td>311.5200</td>\n      <td>903.04</td>\n      <td>Critical</td>\n    </tr>\n  </tbody>\n</table>\n<p>5 rows × 24 columns</p>\n</div>"
     },
     "metadata": {},
     "execution_count": 3
    }
   ],
   "source": [
    "orders = pd.read_csv('../datasets/global_superstore/orders.csv', encoding='utf-8')\n",
    "orders.head()"
   ]
  },
  {
   "cell_type": "code",
   "execution_count": 3,
   "metadata": {},
   "outputs": [
    {
     "name": "stdout",
     "output_type": "stream",
     "text": [
      "<class 'pandas.core.frame.DataFrame'>\n",
      "RangeIndex: 51290 entries, 0 to 51289\n",
      "Data columns (total 24 columns):\n",
      " #   Column          Non-Null Count  Dtype  \n",
      "---  ------          --------------  -----  \n",
      " 0   row_id          51290 non-null  int64  \n",
      " 1   order_id        51290 non-null  object \n",
      " 2   order_date      51290 non-null  object \n",
      " 3   ship_date       51290 non-null  object \n",
      " 4   ship_mode       51290 non-null  object \n",
      " 5   customer_id     51290 non-null  object \n",
      " 6   customer_name   51290 non-null  object \n",
      " 7   segment         51290 non-null  object \n",
      " 8   postal_code     9994 non-null   float64\n",
      " 9   city            51290 non-null  object \n",
      " 10  state           51290 non-null  object \n",
      " 11  country         51290 non-null  object \n",
      " 12  region          51290 non-null  object \n",
      " 13  market          51290 non-null  object \n",
      " 14  product_id      51290 non-null  object \n",
      " 15  category        51290 non-null  object \n",
      " 16  sub_category    51290 non-null  object \n",
      " 17  product_name    51290 non-null  object \n",
      " 18  sales           51290 non-null  float64\n",
      " 19  quantity        51290 non-null  int64  \n",
      " 20  discount        51290 non-null  float64\n",
      " 21  profit          51290 non-null  float64\n",
      " 22  shipping_cost   51290 non-null  float64\n",
      " 23  order_priority  51290 non-null  object \n",
      "dtypes: float64(5), int64(2), object(17)\n",
      "memory usage: 9.4+ MB\n"
     ]
    }
   ],
   "source": [
    "orders.info()"
   ]
  },
  {
   "cell_type": "markdown",
   "metadata": {},
   "source": [
    "При загрузке со стандартными параметрами появилось несколько проблем:\n",
    "\n",
    "- Столбец  почтового индекса (`postal_code`) распознано как числовой. Однако в некоторых странах почтовый индекс может содержать буквы и другие символы.\n",
    "\n",
    "- Даты загрузились как текст\n",
    "\n",
    "Добавим спецификацию форматов данных в команду для загрузки:"
   ]
  },
  {
   "cell_type": "code",
   "execution_count": 6,
   "metadata": {},
   "outputs": [
    {
     "output_type": "execute_result",
     "data": {
      "text/plain": "   row_id                  order_id order_date  ship_date     ship_mode  \\\n0   40098  CA-2014-AB10015140-41954 2014-11-11 2014-11-13   First Class   \n1   26341    IN-2014-JR162107-41675 2014-02-05 2014-02-07  Second Class   \n2   25330    IN-2014-CR127307-41929 2014-10-17 2014-10-18   First Class   \n3   13524   ES-2014-KM1637548-41667 2014-01-28 2014-01-30   First Class   \n4   47221   SG-2014-RH9495111-41948 2014-11-05 2014-11-06      Same Day   \n\n    customer_id     customer_name      segment postal_code           city  \\\n0  AB-100151402     Aaron Bergman     Consumer       73120  Oklahoma City   \n1     JR-162107     Justin Ritter    Corporate         NaN     Wollongong   \n2     CR-127307      Craig Reiter     Consumer         NaN       Brisbane   \n3    KM-1637548  Katherine Murray  Home Office         NaN         Berlin   \n4    RH-9495111       Rick Hansen     Consumer         NaN          Dakar   \n\n   ...   product_id    category sub_category  \\\n0  ...  TEC-PH-5816  Technology       Phones   \n1  ...  FUR-CH-5379   Furniture       Chairs   \n2  ...  TEC-PH-5356  Technology       Phones   \n3  ...  TEC-PH-5267  Technology       Phones   \n4  ...  TEC-CO-6011  Technology      Copiers   \n\n                                product_name     sales quantity discount  \\\n0                           Samsung Convoy 3   221.980        2      0.0   \n1  Novimex Executive Leather Armchair, Black  3709.395        9      0.1   \n2          Nokia Smart Phone, with Caller ID  5175.171        9      0.1   \n3             Motorola Smart Phone, Cordless  2892.510        5      0.1   \n4             Sharp Wireless Fax, High-Speed  2832.960        8      0.0   \n\n     profit  shipping_cost  order_priority  \n0   62.1544          40.77            High  \n1 -288.7650         923.63        Critical  \n2  919.9710         915.49          Medium  \n3  -96.5400         910.16          Medium  \n4  311.5200         903.04        Critical  \n\n[5 rows x 24 columns]",
      "text/html": "<div>\n<style scoped>\n    .dataframe tbody tr th:only-of-type {\n        vertical-align: middle;\n    }\n\n    .dataframe tbody tr th {\n        vertical-align: top;\n    }\n\n    .dataframe thead th {\n        text-align: right;\n    }\n</style>\n<table border=\"1\" class=\"dataframe\">\n  <thead>\n    <tr style=\"text-align: right;\">\n      <th></th>\n      <th>row_id</th>\n      <th>order_id</th>\n      <th>order_date</th>\n      <th>ship_date</th>\n      <th>ship_mode</th>\n      <th>customer_id</th>\n      <th>customer_name</th>\n      <th>segment</th>\n      <th>postal_code</th>\n      <th>city</th>\n      <th>...</th>\n      <th>product_id</th>\n      <th>category</th>\n      <th>sub_category</th>\n      <th>product_name</th>\n      <th>sales</th>\n      <th>quantity</th>\n      <th>discount</th>\n      <th>profit</th>\n      <th>shipping_cost</th>\n      <th>order_priority</th>\n    </tr>\n  </thead>\n  <tbody>\n    <tr>\n      <th>0</th>\n      <td>40098</td>\n      <td>CA-2014-AB10015140-41954</td>\n      <td>2014-11-11</td>\n      <td>2014-11-13</td>\n      <td>First Class</td>\n      <td>AB-100151402</td>\n      <td>Aaron Bergman</td>\n      <td>Consumer</td>\n      <td>73120</td>\n      <td>Oklahoma City</td>\n      <td>...</td>\n      <td>TEC-PH-5816</td>\n      <td>Technology</td>\n      <td>Phones</td>\n      <td>Samsung Convoy 3</td>\n      <td>221.980</td>\n      <td>2</td>\n      <td>0.0</td>\n      <td>62.1544</td>\n      <td>40.77</td>\n      <td>High</td>\n    </tr>\n    <tr>\n      <th>1</th>\n      <td>26341</td>\n      <td>IN-2014-JR162107-41675</td>\n      <td>2014-02-05</td>\n      <td>2014-02-07</td>\n      <td>Second Class</td>\n      <td>JR-162107</td>\n      <td>Justin Ritter</td>\n      <td>Corporate</td>\n      <td>NaN</td>\n      <td>Wollongong</td>\n      <td>...</td>\n      <td>FUR-CH-5379</td>\n      <td>Furniture</td>\n      <td>Chairs</td>\n      <td>Novimex Executive Leather Armchair, Black</td>\n      <td>3709.395</td>\n      <td>9</td>\n      <td>0.1</td>\n      <td>-288.7650</td>\n      <td>923.63</td>\n      <td>Critical</td>\n    </tr>\n    <tr>\n      <th>2</th>\n      <td>25330</td>\n      <td>IN-2014-CR127307-41929</td>\n      <td>2014-10-17</td>\n      <td>2014-10-18</td>\n      <td>First Class</td>\n      <td>CR-127307</td>\n      <td>Craig Reiter</td>\n      <td>Consumer</td>\n      <td>NaN</td>\n      <td>Brisbane</td>\n      <td>...</td>\n      <td>TEC-PH-5356</td>\n      <td>Technology</td>\n      <td>Phones</td>\n      <td>Nokia Smart Phone, with Caller ID</td>\n      <td>5175.171</td>\n      <td>9</td>\n      <td>0.1</td>\n      <td>919.9710</td>\n      <td>915.49</td>\n      <td>Medium</td>\n    </tr>\n    <tr>\n      <th>3</th>\n      <td>13524</td>\n      <td>ES-2014-KM1637548-41667</td>\n      <td>2014-01-28</td>\n      <td>2014-01-30</td>\n      <td>First Class</td>\n      <td>KM-1637548</td>\n      <td>Katherine Murray</td>\n      <td>Home Office</td>\n      <td>NaN</td>\n      <td>Berlin</td>\n      <td>...</td>\n      <td>TEC-PH-5267</td>\n      <td>Technology</td>\n      <td>Phones</td>\n      <td>Motorola Smart Phone, Cordless</td>\n      <td>2892.510</td>\n      <td>5</td>\n      <td>0.1</td>\n      <td>-96.5400</td>\n      <td>910.16</td>\n      <td>Medium</td>\n    </tr>\n    <tr>\n      <th>4</th>\n      <td>47221</td>\n      <td>SG-2014-RH9495111-41948</td>\n      <td>2014-11-05</td>\n      <td>2014-11-06</td>\n      <td>Same Day</td>\n      <td>RH-9495111</td>\n      <td>Rick Hansen</td>\n      <td>Consumer</td>\n      <td>NaN</td>\n      <td>Dakar</td>\n      <td>...</td>\n      <td>TEC-CO-6011</td>\n      <td>Technology</td>\n      <td>Copiers</td>\n      <td>Sharp Wireless Fax, High-Speed</td>\n      <td>2832.960</td>\n      <td>8</td>\n      <td>0.0</td>\n      <td>311.5200</td>\n      <td>903.04</td>\n      <td>Critical</td>\n    </tr>\n  </tbody>\n</table>\n<p>5 rows × 24 columns</p>\n</div>"
     },
     "metadata": {},
     "execution_count": 6
    }
   ],
   "source": [
    "orders = pd.read_csv('../datasets/global_superstore/orders.csv', encoding='utf-8',\n",
    "                    parse_dates=['order_date', 'ship_date'],\n",
    "                    dtype={'postal_code' : str})\n",
    "orders.head()"
   ]
  },
  {
   "cell_type": "code",
   "execution_count": 5,
   "metadata": {},
   "outputs": [
    {
     "name": "stdout",
     "output_type": "stream",
     "text": [
      "<class 'pandas.core.frame.DataFrame'>\n",
      "RangeIndex: 51290 entries, 0 to 51289\n",
      "Data columns (total 24 columns):\n",
      " #   Column          Non-Null Count  Dtype         \n",
      "---  ------          --------------  -----         \n",
      " 0   row_id          51290 non-null  int64         \n",
      " 1   order_id        51290 non-null  object        \n",
      " 2   order_date      51290 non-null  datetime64[ns]\n",
      " 3   ship_date       51290 non-null  datetime64[ns]\n",
      " 4   ship_mode       51290 non-null  object        \n",
      " 5   customer_id     51290 non-null  object        \n",
      " 6   customer_name   51290 non-null  object        \n",
      " 7   segment         51290 non-null  object        \n",
      " 8   postal_code     9994 non-null   object        \n",
      " 9   city            51290 non-null  object        \n",
      " 10  state           51290 non-null  object        \n",
      " 11  country         51290 non-null  object        \n",
      " 12  region          51290 non-null  object        \n",
      " 13  market          51290 non-null  object        \n",
      " 14  product_id      51290 non-null  object        \n",
      " 15  category        51290 non-null  object        \n",
      " 16  sub_category    51290 non-null  object        \n",
      " 17  product_name    51290 non-null  object        \n",
      " 18  sales           51290 non-null  float64       \n",
      " 19  quantity        51290 non-null  int64         \n",
      " 20  discount        51290 non-null  float64       \n",
      " 21  profit          51290 non-null  float64       \n",
      " 22  shipping_cost   51290 non-null  float64       \n",
      " 23  order_priority  51290 non-null  object        \n",
      "dtypes: datetime64[ns](2), float64(4), int64(2), object(16)\n",
      "memory usage: 9.4+ MB\n"
     ]
    }
   ],
   "source": [
    "orders.info()"
   ]
  },
  {
   "cell_type": "markdown",
   "metadata": {},
   "source": [
    "Теперь данные загрузились правильно. Даты стали датами, а `postal_code` теперь - текстовое поле. Количество пропущенных значений не изменилось, в данных действительно во многих случаях индекс не указан.\n",
    "\n",
    "При загрузке из текстовых файлов может возникать множество проблем из-за ошибок в данных или несоответствия форматов. При необходимости обратитесь к ресурсам:  \n",
    "\n",
    "- справка Pandas https://pandas.pydata.org/pandas-docs/stable/reference/api/pandas.read_csv.html\n",
    "- Раздел 6.1 в книге Уэса Маккинни Python и анализ данных (см. ресурсы в LMS)"
   ]
  },
  {
   "cell_type": "markdown",
   "metadata": {},
   "source": [
    "**Словарь данных:**\n",
    "\n",
    " - `row_id` - код строки заказа (уникальный)  \n",
    " - `order_id` - код заказа\n",
    " - `order_date` - дата размещения заказа\n",
    " - `ship_date` - дата отгрузки заказа (пусто, если еще не отгружен)\n",
    " - `ship_mode` - класс отправки\n",
    " - `customer_id` - код клиента\n",
    " - `customer_name` - имя клиента\n",
    " - `segment` - рыночный сегмент клиента\n",
    " - `postal_code` - почтовый индекс получателя\n",
    " - `city` - город получателя\n",
    " - `state` - штат получателя\n",
    " - `country` - страна получателя\n",
    " - `region` - регион получателя\n",
    " - `market` - рынок, к которому относится получатель\n",
    " - `product_id` - код товара\n",
    " - `category` - товарная категория\n",
    " - `sub_category` - товарная подкатегория\n",
    " - `product_name` - наименование товара\n",
    " - `sales` - выручка\n",
    " - `quantity` - количество единиц товара\n",
    " - `discount` - скидка\n",
    " - `profit` - валовая прибыль \n",
    " - `shipping_cost` - затраты на доставку\n",
    " - `order_priority` - приоритет заказа\n",
    " "
   ]
  },
  {
   "cell_type": "markdown",
   "metadata": {},
   "source": [
    "Данные представляют собой строки заказов, выполненных компанией. Каждая строка имеет уникальный номер `row_id` и содержит данные о том, кто, что и когда заказал, когда эта позиция была отправлена, адрес получателя. Также количество единиц, выручку, прибыль и затраты на доставку по строке. \n",
    "\n",
    "В одном заказе может быть несколько позиций. В этом случае в таблице будет несколько строк с одинаковым номером заказа:"
   ]
  },
  {
   "cell_type": "code",
   "execution_count": 6,
   "metadata": {},
   "outputs": [
    {
     "data": {
      "text/html": [
       "<div>\n",
       "<style scoped>\n",
       "    .dataframe tbody tr th:only-of-type {\n",
       "        vertical-align: middle;\n",
       "    }\n",
       "\n",
       "    .dataframe tbody tr th {\n",
       "        vertical-align: top;\n",
       "    }\n",
       "\n",
       "    .dataframe thead th {\n",
       "        text-align: right;\n",
       "    }\n",
       "</style>\n",
       "<table border=\"1\" class=\"dataframe\">\n",
       "  <thead>\n",
       "    <tr style=\"text-align: right;\">\n",
       "      <th></th>\n",
       "      <th>row_id</th>\n",
       "      <th>order_id</th>\n",
       "      <th>order_date</th>\n",
       "      <th>ship_date</th>\n",
       "      <th>ship_mode</th>\n",
       "      <th>customer_id</th>\n",
       "      <th>customer_name</th>\n",
       "      <th>segment</th>\n",
       "      <th>postal_code</th>\n",
       "      <th>city</th>\n",
       "      <th>...</th>\n",
       "      <th>product_id</th>\n",
       "      <th>category</th>\n",
       "      <th>sub_category</th>\n",
       "      <th>product_name</th>\n",
       "      <th>sales</th>\n",
       "      <th>quantity</th>\n",
       "      <th>discount</th>\n",
       "      <th>profit</th>\n",
       "      <th>shipping_cost</th>\n",
       "      <th>order_priority</th>\n",
       "    </tr>\n",
       "  </thead>\n",
       "  <tbody>\n",
       "    <tr>\n",
       "      <th>27486</th>\n",
       "      <td>43926</td>\n",
       "      <td>AE-2015-GH4665138-42351</td>\n",
       "      <td>2015-12-13</td>\n",
       "      <td>2015-12-19</td>\n",
       "      <td>Standard Class</td>\n",
       "      <td>GH-4665138</td>\n",
       "      <td>Greg Hansen</td>\n",
       "      <td>Consumer</td>\n",
       "      <td>NaN</td>\n",
       "      <td>Ras al Khaymah</td>\n",
       "      <td>...</td>\n",
       "      <td>TEC-PH-5253</td>\n",
       "      <td>Technology</td>\n",
       "      <td>Phones</td>\n",
       "      <td>Motorola Headset, VoIP</td>\n",
       "      <td>95.796</td>\n",
       "      <td>4</td>\n",
       "      <td>0.7</td>\n",
       "      <td>-156.564</td>\n",
       "      <td>6.73</td>\n",
       "      <td>Medium</td>\n",
       "    </tr>\n",
       "    <tr>\n",
       "      <th>29298</th>\n",
       "      <td>43924</td>\n",
       "      <td>AE-2015-GH4665138-42351</td>\n",
       "      <td>2015-12-13</td>\n",
       "      <td>2015-12-19</td>\n",
       "      <td>Standard Class</td>\n",
       "      <td>GH-4665138</td>\n",
       "      <td>Greg Hansen</td>\n",
       "      <td>Consumer</td>\n",
       "      <td>NaN</td>\n",
       "      <td>Ras al Khaymah</td>\n",
       "      <td>...</td>\n",
       "      <td>OFF-ST-4078</td>\n",
       "      <td>Office Supplies</td>\n",
       "      <td>Storage</td>\n",
       "      <td>Eldon Lockers, Blue</td>\n",
       "      <td>59.373</td>\n",
       "      <td>1</td>\n",
       "      <td>0.7</td>\n",
       "      <td>-118.767</td>\n",
       "      <td>5.83</td>\n",
       "      <td>Medium</td>\n",
       "    </tr>\n",
       "    <tr>\n",
       "      <th>33521</th>\n",
       "      <td>43922</td>\n",
       "      <td>AE-2015-GH4665138-42351</td>\n",
       "      <td>2015-12-13</td>\n",
       "      <td>2015-12-19</td>\n",
       "      <td>Standard Class</td>\n",
       "      <td>GH-4665138</td>\n",
       "      <td>Greg Hansen</td>\n",
       "      <td>Consumer</td>\n",
       "      <td>NaN</td>\n",
       "      <td>Ras al Khaymah</td>\n",
       "      <td>...</td>\n",
       "      <td>OFF-AR-3463</td>\n",
       "      <td>Office Supplies</td>\n",
       "      <td>Art</td>\n",
       "      <td>BIC Pencil Sharpener, Water Color</td>\n",
       "      <td>77.256</td>\n",
       "      <td>8</td>\n",
       "      <td>0.7</td>\n",
       "      <td>-82.584</td>\n",
       "      <td>4.08</td>\n",
       "      <td>Medium</td>\n",
       "    </tr>\n",
       "    <tr>\n",
       "      <th>40033</th>\n",
       "      <td>43925</td>\n",
       "      <td>AE-2015-GH4665138-42351</td>\n",
       "      <td>2015-12-13</td>\n",
       "      <td>2015-12-19</td>\n",
       "      <td>Standard Class</td>\n",
       "      <td>GH-4665138</td>\n",
       "      <td>Greg Hansen</td>\n",
       "      <td>Consumer</td>\n",
       "      <td>NaN</td>\n",
       "      <td>Ras al Khaymah</td>\n",
       "      <td>...</td>\n",
       "      <td>OFF-ST-5693</td>\n",
       "      <td>Office Supplies</td>\n",
       "      <td>Storage</td>\n",
       "      <td>Rogers File Cart, Single Width</td>\n",
       "      <td>42.489</td>\n",
       "      <td>1</td>\n",
       "      <td>0.7</td>\n",
       "      <td>-62.331</td>\n",
       "      <td>2.24</td>\n",
       "      <td>Medium</td>\n",
       "    </tr>\n",
       "    <tr>\n",
       "      <th>49469</th>\n",
       "      <td>43923</td>\n",
       "      <td>AE-2015-GH4665138-42351</td>\n",
       "      <td>2015-12-13</td>\n",
       "      <td>2015-12-19</td>\n",
       "      <td>Standard Class</td>\n",
       "      <td>GH-4665138</td>\n",
       "      <td>Greg Hansen</td>\n",
       "      <td>Consumer</td>\n",
       "      <td>NaN</td>\n",
       "      <td>Ras al Khaymah</td>\n",
       "      <td>...</td>\n",
       "      <td>OFF-BI-3246</td>\n",
       "      <td>Office Supplies</td>\n",
       "      <td>Binders</td>\n",
       "      <td>Avery Binder Covers, Clear</td>\n",
       "      <td>3.159</td>\n",
       "      <td>1</td>\n",
       "      <td>0.7</td>\n",
       "      <td>-4.971</td>\n",
       "      <td>1.25</td>\n",
       "      <td>Medium</td>\n",
       "    </tr>\n",
       "    <tr>\n",
       "      <th>49470</th>\n",
       "      <td>43927</td>\n",
       "      <td>AE-2015-GH4665138-42351</td>\n",
       "      <td>2015-12-13</td>\n",
       "      <td>2015-12-19</td>\n",
       "      <td>Standard Class</td>\n",
       "      <td>GH-4665138</td>\n",
       "      <td>Greg Hansen</td>\n",
       "      <td>Consumer</td>\n",
       "      <td>NaN</td>\n",
       "      <td>Ras al Khaymah</td>\n",
       "      <td>...</td>\n",
       "      <td>OFF-BI-3249</td>\n",
       "      <td>Office Supplies</td>\n",
       "      <td>Binders</td>\n",
       "      <td>Avery Binder Covers, Recycled</td>\n",
       "      <td>3.429</td>\n",
       "      <td>1</td>\n",
       "      <td>0.7</td>\n",
       "      <td>-3.891</td>\n",
       "      <td>1.25</td>\n",
       "      <td>Medium</td>\n",
       "    </tr>\n",
       "  </tbody>\n",
       "</table>\n",
       "<p>6 rows × 24 columns</p>\n",
       "</div>"
      ],
      "text/plain": [
       "       row_id                 order_id order_date  ship_date       ship_mode  \\\n",
       "27486   43926  AE-2015-GH4665138-42351 2015-12-13 2015-12-19  Standard Class   \n",
       "29298   43924  AE-2015-GH4665138-42351 2015-12-13 2015-12-19  Standard Class   \n",
       "33521   43922  AE-2015-GH4665138-42351 2015-12-13 2015-12-19  Standard Class   \n",
       "40033   43925  AE-2015-GH4665138-42351 2015-12-13 2015-12-19  Standard Class   \n",
       "49469   43923  AE-2015-GH4665138-42351 2015-12-13 2015-12-19  Standard Class   \n",
       "49470   43927  AE-2015-GH4665138-42351 2015-12-13 2015-12-19  Standard Class   \n",
       "\n",
       "      customer_id customer_name   segment postal_code            city  ...  \\\n",
       "27486  GH-4665138   Greg Hansen  Consumer         NaN  Ras al Khaymah  ...   \n",
       "29298  GH-4665138   Greg Hansen  Consumer         NaN  Ras al Khaymah  ...   \n",
       "33521  GH-4665138   Greg Hansen  Consumer         NaN  Ras al Khaymah  ...   \n",
       "40033  GH-4665138   Greg Hansen  Consumer         NaN  Ras al Khaymah  ...   \n",
       "49469  GH-4665138   Greg Hansen  Consumer         NaN  Ras al Khaymah  ...   \n",
       "49470  GH-4665138   Greg Hansen  Consumer         NaN  Ras al Khaymah  ...   \n",
       "\n",
       "        product_id         category sub_category  \\\n",
       "27486  TEC-PH-5253       Technology       Phones   \n",
       "29298  OFF-ST-4078  Office Supplies      Storage   \n",
       "33521  OFF-AR-3463  Office Supplies          Art   \n",
       "40033  OFF-ST-5693  Office Supplies      Storage   \n",
       "49469  OFF-BI-3246  Office Supplies      Binders   \n",
       "49470  OFF-BI-3249  Office Supplies      Binders   \n",
       "\n",
       "                            product_name   sales quantity discount   profit  \\\n",
       "27486             Motorola Headset, VoIP  95.796        4      0.7 -156.564   \n",
       "29298                Eldon Lockers, Blue  59.373        1      0.7 -118.767   \n",
       "33521  BIC Pencil Sharpener, Water Color  77.256        8      0.7  -82.584   \n",
       "40033     Rogers File Cart, Single Width  42.489        1      0.7  -62.331   \n",
       "49469         Avery Binder Covers, Clear   3.159        1      0.7   -4.971   \n",
       "49470      Avery Binder Covers, Recycled   3.429        1      0.7   -3.891   \n",
       "\n",
       "       shipping_cost  order_priority  \n",
       "27486           6.73          Medium  \n",
       "29298           5.83          Medium  \n",
       "33521           4.08          Medium  \n",
       "40033           2.24          Medium  \n",
       "49469           1.25          Medium  \n",
       "49470           1.25          Medium  \n",
       "\n",
       "[6 rows x 24 columns]"
      ]
     },
     "execution_count": 6,
     "metadata": {},
     "output_type": "execute_result"
    }
   ],
   "source": [
    "orders.query('order_id == \"AE-2015-GH4665138-42351\"')"
   ]
  },
  {
   "cell_type": "markdown",
   "metadata": {},
   "source": [
    "## Задание 1\n",
    "\n",
    "Во всех заданиях необходимо округлить результат до разумного количества десятичных знаков. Крупные суммы выводите в подходящих единицах (тысячи или млн долларов)\n",
    "\n",
    "### 1.1. Сколько составляет оборот по каждой товарной категории? \n",
    "(выведите ответ в млн долларов с округлением до 1 десятичного знака)."
   ]
  },
  {
   "cell_type": "code",
   "execution_count": 23,
   "metadata": {},
   "outputs": [
    {
     "output_type": "execute_result",
     "data": {
      "text/plain": "                 sales\ncategory              \nFurniture          4.1\nOffice Supplies    3.8\nTechnology         4.7",
      "text/html": "<div>\n<style scoped>\n    .dataframe tbody tr th:only-of-type {\n        vertical-align: middle;\n    }\n\n    .dataframe tbody tr th {\n        vertical-align: top;\n    }\n\n    .dataframe thead th {\n        text-align: right;\n    }\n</style>\n<table border=\"1\" class=\"dataframe\">\n  <thead>\n    <tr style=\"text-align: right;\">\n      <th></th>\n      <th>sales</th>\n    </tr>\n    <tr>\n      <th>category</th>\n      <th></th>\n    </tr>\n  </thead>\n  <tbody>\n    <tr>\n      <th>Furniture</th>\n      <td>4.1</td>\n    </tr>\n    <tr>\n      <th>Office Supplies</th>\n      <td>3.8</td>\n    </tr>\n    <tr>\n      <th>Technology</th>\n      <td>4.7</td>\n    </tr>\n  </tbody>\n</table>\n</div>"
     },
     "metadata": {},
     "execution_count": 23
    }
   ],
   "source": [
    "orders_groupby = orders.groupby('category')\n",
    "round(orders_groupby[['sales']].sum()/1000000, 1)"
   ]
  },
  {
   "cell_type": "markdown",
   "metadata": {},
   "source": [
    "### 1.2. Сколько товаров представлено в каждой товарной категории? \n",
    "(попробуйте реализовать двумя способами: только с помощью группировки/определения размера группы, и через агрегирующую функцию `nunique()` - число уникальных значений."
   ]
  },
  {
   "cell_type": "code",
   "execution_count": 29,
   "metadata": {},
   "outputs": [
    {
     "output_type": "execute_result",
     "data": {
      "text/plain": "category\nFurniture           841\nOffice Supplies    2071\nTechnology          876\ndtype: int64"
     },
     "metadata": {},
     "execution_count": 29
    }
   ],
   "source": [
    "# только с помощью группировки/определения размера группы\n",
    "orders.groupby('category').apply(lambda x: len(set(x['product_id'])))"
   ]
  },
  {
   "cell_type": "code",
   "execution_count": 27,
   "metadata": {},
   "outputs": [
    {
     "output_type": "execute_result",
     "data": {
      "text/plain": "                 product_id\ncategory                   \nFurniture               841\nOffice Supplies        2071\nTechnology              876",
      "text/html": "<div>\n<style scoped>\n    .dataframe tbody tr th:only-of-type {\n        vertical-align: middle;\n    }\n\n    .dataframe tbody tr th {\n        vertical-align: top;\n    }\n\n    .dataframe thead th {\n        text-align: right;\n    }\n</style>\n<table border=\"1\" class=\"dataframe\">\n  <thead>\n    <tr style=\"text-align: right;\">\n      <th></th>\n      <th>product_id</th>\n    </tr>\n    <tr>\n      <th>category</th>\n      <th></th>\n    </tr>\n  </thead>\n  <tbody>\n    <tr>\n      <th>Furniture</th>\n      <td>841</td>\n    </tr>\n    <tr>\n      <th>Office Supplies</th>\n      <td>2071</td>\n    </tr>\n    <tr>\n      <th>Technology</th>\n      <td>876</td>\n    </tr>\n  </tbody>\n</table>\n</div>"
     },
     "metadata": {},
     "execution_count": 27
    }
   ],
   "source": [
    "# через агрегирующую функцию nunique()\n",
    "orders_groupby_unique = orders.groupby('category')\n",
    "orders_groupby_unique[['product_id']].nunique()"
   ]
  },
  {
   "cell_type": "markdown",
   "metadata": {},
   "source": [
    "### 1.3. Составьте рейтинг стран на основе прибыли от продаж."
   ]
  },
  {
   "cell_type": "code",
   "execution_count": 316,
   "metadata": {},
   "outputs": [
    {
     "output_type": "execute_result",
     "data": {
      "text/plain": "                profit\ncountry               \nUnited States    286.4\nChina            150.7\nIndia            129.1\nUnited Kingdom   111.9\nFrance           109.0\n...                ...\nPakistan         -22.4\nHonduras         -29.5\nNetherlands      -41.1\nNigeria          -80.8\nTurkey           -98.4\n\n[165 rows x 1 columns]",
      "text/html": "<div>\n<style scoped>\n    .dataframe tbody tr th:only-of-type {\n        vertical-align: middle;\n    }\n\n    .dataframe tbody tr th {\n        vertical-align: top;\n    }\n\n    .dataframe thead th {\n        text-align: right;\n    }\n</style>\n<table border=\"1\" class=\"dataframe\">\n  <thead>\n    <tr style=\"text-align: right;\">\n      <th></th>\n      <th>profit</th>\n    </tr>\n    <tr>\n      <th>country</th>\n      <th></th>\n    </tr>\n  </thead>\n  <tbody>\n    <tr>\n      <th>United States</th>\n      <td>286.4</td>\n    </tr>\n    <tr>\n      <th>China</th>\n      <td>150.7</td>\n    </tr>\n    <tr>\n      <th>India</th>\n      <td>129.1</td>\n    </tr>\n    <tr>\n      <th>United Kingdom</th>\n      <td>111.9</td>\n    </tr>\n    <tr>\n      <th>France</th>\n      <td>109.0</td>\n    </tr>\n    <tr>\n      <th>...</th>\n      <td>...</td>\n    </tr>\n    <tr>\n      <th>Pakistan</th>\n      <td>-22.4</td>\n    </tr>\n    <tr>\n      <th>Honduras</th>\n      <td>-29.5</td>\n    </tr>\n    <tr>\n      <th>Netherlands</th>\n      <td>-41.1</td>\n    </tr>\n    <tr>\n      <th>Nigeria</th>\n      <td>-80.8</td>\n    </tr>\n    <tr>\n      <th>Turkey</th>\n      <td>-98.4</td>\n    </tr>\n  </tbody>\n</table>\n<p>165 rows × 1 columns</p>\n</div>"
     },
     "metadata": {},
     "execution_count": 316
    }
   ],
   "source": [
    "# в тыс. рублей\n",
    "round(orders.groupby('country')[['profit']].sum().sort_values(by='profit', ascending=False)/1000, 1)"
   ]
  },
  {
   "cell_type": "markdown",
   "metadata": {},
   "source": [
    "### 1.4. Выведите 3 самых популярных (по количеству заказов) товара на каждом рынке."
   ]
  },
  {
   "cell_type": "code",
   "execution_count": 318,
   "metadata": {},
   "outputs": [
    {
     "output_type": "execute_result",
     "data": {
      "text/plain": "                          market   product_id  count_id  count_id_new\nmarket                                                               \nAfrica       30744        Africa  OFF-BI-4828         1            17\n             482          Africa  OFF-ST-6033         1            16\n             22901        Africa  OFF-AR-6120         1            16\nAsia Pacific 20703  Asia Pacific  OFF-BI-3737         1            31\n             21357  Asia Pacific  OFF-FA-6189         1            30\n             1663   Asia Pacific  OFF-ST-6033         1            26\nEurope       379          Europe  OFF-ST-4057         1            37\n             11967        Europe  OFF-AR-6120         1            31\n             12727        Europe  OFF-AR-5923         1            31\nLATAM        30499         LATAM  OFF-BI-2917         1            22\n             30805         LATAM  OFF-BI-3737         1            20\n             30288         LATAM  OFF-FA-6194         1            19\nUSCA         28             USCA  OFF-FA-6129         1           227\n             1064           USCA  OFF-BI-3302         1            20\n             197            USCA  FUR-TA-4943         1            18",
      "text/html": "<div>\n<style scoped>\n    .dataframe tbody tr th:only-of-type {\n        vertical-align: middle;\n    }\n\n    .dataframe tbody tr th {\n        vertical-align: top;\n    }\n\n    .dataframe thead th {\n        text-align: right;\n    }\n</style>\n<table border=\"1\" class=\"dataframe\">\n  <thead>\n    <tr style=\"text-align: right;\">\n      <th></th>\n      <th></th>\n      <th>market</th>\n      <th>product_id</th>\n      <th>count_id</th>\n      <th>count_id_new</th>\n    </tr>\n    <tr>\n      <th>market</th>\n      <th></th>\n      <th></th>\n      <th></th>\n      <th></th>\n      <th></th>\n    </tr>\n  </thead>\n  <tbody>\n    <tr>\n      <th rowspan=\"3\" valign=\"top\">Africa</th>\n      <th>30744</th>\n      <td>Africa</td>\n      <td>OFF-BI-4828</td>\n      <td>1</td>\n      <td>17</td>\n    </tr>\n    <tr>\n      <th>482</th>\n      <td>Africa</td>\n      <td>OFF-ST-6033</td>\n      <td>1</td>\n      <td>16</td>\n    </tr>\n    <tr>\n      <th>22901</th>\n      <td>Africa</td>\n      <td>OFF-AR-6120</td>\n      <td>1</td>\n      <td>16</td>\n    </tr>\n    <tr>\n      <th rowspan=\"3\" valign=\"top\">Asia Pacific</th>\n      <th>20703</th>\n      <td>Asia Pacific</td>\n      <td>OFF-BI-3737</td>\n      <td>1</td>\n      <td>31</td>\n    </tr>\n    <tr>\n      <th>21357</th>\n      <td>Asia Pacific</td>\n      <td>OFF-FA-6189</td>\n      <td>1</td>\n      <td>30</td>\n    </tr>\n    <tr>\n      <th>1663</th>\n      <td>Asia Pacific</td>\n      <td>OFF-ST-6033</td>\n      <td>1</td>\n      <td>26</td>\n    </tr>\n    <tr>\n      <th rowspan=\"3\" valign=\"top\">Europe</th>\n      <th>379</th>\n      <td>Europe</td>\n      <td>OFF-ST-4057</td>\n      <td>1</td>\n      <td>37</td>\n    </tr>\n    <tr>\n      <th>11967</th>\n      <td>Europe</td>\n      <td>OFF-AR-6120</td>\n      <td>1</td>\n      <td>31</td>\n    </tr>\n    <tr>\n      <th>12727</th>\n      <td>Europe</td>\n      <td>OFF-AR-5923</td>\n      <td>1</td>\n      <td>31</td>\n    </tr>\n    <tr>\n      <th rowspan=\"3\" valign=\"top\">LATAM</th>\n      <th>30499</th>\n      <td>LATAM</td>\n      <td>OFF-BI-2917</td>\n      <td>1</td>\n      <td>22</td>\n    </tr>\n    <tr>\n      <th>30805</th>\n      <td>LATAM</td>\n      <td>OFF-BI-3737</td>\n      <td>1</td>\n      <td>20</td>\n    </tr>\n    <tr>\n      <th>30288</th>\n      <td>LATAM</td>\n      <td>OFF-FA-6194</td>\n      <td>1</td>\n      <td>19</td>\n    </tr>\n    <tr>\n      <th rowspan=\"3\" valign=\"top\">USCA</th>\n      <th>28</th>\n      <td>USCA</td>\n      <td>OFF-FA-6129</td>\n      <td>1</td>\n      <td>227</td>\n    </tr>\n    <tr>\n      <th>1064</th>\n      <td>USCA</td>\n      <td>OFF-BI-3302</td>\n      <td>1</td>\n      <td>20</td>\n    </tr>\n    <tr>\n      <th>197</th>\n      <td>USCA</td>\n      <td>FUR-TA-4943</td>\n      <td>1</td>\n      <td>18</td>\n    </tr>\n  </tbody>\n</table>\n</div>"
     },
     "metadata": {},
     "execution_count": 318
    }
   ],
   "source": [
    "orders_groupby_count = orders.loc[:, ['market', 'product_id']]\n",
    "orders_groupby_count ['count_id']=1 #добавлен столбец который просто считает кол-во продуктов (удобнее считать по строчкам)\n",
    "orders_groupby_count\n",
    "\n",
    "orders_groupby_count ['count_id_new'] = orders_groupby_count.groupby(['market', 'product_id'])['count_id'].transform('count')\n",
    "orders_groupby_count2=orders_groupby_count.drop_duplicates()\n",
    "orders_groupby_count2\n",
    "\n",
    "orders_groupby_count_new=orders_groupby_count2.groupby('market').apply(lambda x: x.nlargest(3,'count_id_new'))\n",
    "orders_groupby_count_new"
   ]
  },
  {
   "cell_type": "markdown",
   "metadata": {},
   "source": [
    "### 1.5. Сравните рынки по характеристикам заказов на них:\n",
    "- Средний и медианный чек (сумма заказа)\n",
    "- Среднее и медианное количество позиций в заказе\n",
    "- Средняя и медианная прибыль по заказу\n",
    "- Средняя и медианная стоимость доставки по заказу\n",
    "- Среднее и медианное отношение стоимости доставки заказа к его сумме\n",
    "\n",
    "Обратите внимание, что анализировать нужно именно характеристики заказов. В таблице содержатся _строки_ заказов, сначала на их основе нужно посчитать характеристики заказов."
   ]
  },
  {
   "cell_type": "code",
   "execution_count": 52,
   "metadata": {},
   "outputs": [
    {
     "output_type": "execute_result",
     "data": {
      "text/plain": "                     sales            quantity             profit            \\\n                      mean    median      mean median        mean    median   \ncountry                                                                       \nAfghanistan     833.589231  432.4200  8.769231    8.0  210.011538   71.1750   \nAlbania         388.812000  296.6400  4.000000    2.5   70.932000   31.0650   \nAlgeria         383.953085  175.6050  4.829787    3.0   96.877660   29.5650   \nAngola          425.900000  197.8800  5.283333    4.0  108.249500   48.0900   \nArgentina       301.108813  161.1000  7.874346    5.0  -97.873281  -35.7480   \n...                    ...       ...       ...    ...         ...       ...   \nVietnam         538.926164  314.0046  8.190083    6.0  -14.027390   10.6815   \nWestern Sahara  666.360000  666.3600  4.000000    4.0  300.420000  300.4200   \nYemen           224.155636  157.6350  6.454545    5.0 -336.950727 -241.8420   \nZambia          565.989130  304.1400  5.456522    3.5  152.211522   58.6950   \nZimbabwe         87.560581   25.5780  4.418605    2.0 -126.250814  -47.5800   \n\n               shipping_cost         shipping_share            \n                        mean  median           mean    median  \ncountry                                                        \nAfghanistan        88.470385  45.240       0.101345  0.090030  \nAlbania            70.057000  33.980       0.153373  0.104618  \nAlgeria            39.834149  19.825       0.109778  0.080292  \nAngola             40.506667  18.030       0.108626  0.105584  \nArgentina          33.645874  15.691       0.120616  0.098636  \n...                      ...     ...            ...       ...  \nVietnam            63.267273  27.950       0.116896  0.099234  \nWestern Sahara     72.520000  72.520       0.108830  0.108830  \nYemen              26.602727  24.020       0.141071  0.106509  \nZambia             66.830435  32.375       0.131857  0.114021  \nZimbabwe           11.726047   3.610       0.195400  0.169146  \n\n[165 rows x 10 columns]",
      "text/html": "<div>\n<style scoped>\n    .dataframe tbody tr th:only-of-type {\n        vertical-align: middle;\n    }\n\n    .dataframe tbody tr th {\n        vertical-align: top;\n    }\n\n    .dataframe thead tr th {\n        text-align: left;\n    }\n\n    .dataframe thead tr:last-of-type th {\n        text-align: right;\n    }\n</style>\n<table border=\"1\" class=\"dataframe\">\n  <thead>\n    <tr>\n      <th></th>\n      <th colspan=\"2\" halign=\"left\">sales</th>\n      <th colspan=\"2\" halign=\"left\">quantity</th>\n      <th colspan=\"2\" halign=\"left\">profit</th>\n      <th colspan=\"2\" halign=\"left\">shipping_cost</th>\n      <th colspan=\"2\" halign=\"left\">shipping_share</th>\n    </tr>\n    <tr>\n      <th></th>\n      <th>mean</th>\n      <th>median</th>\n      <th>mean</th>\n      <th>median</th>\n      <th>mean</th>\n      <th>median</th>\n      <th>mean</th>\n      <th>median</th>\n      <th>mean</th>\n      <th>median</th>\n    </tr>\n    <tr>\n      <th>country</th>\n      <th></th>\n      <th></th>\n      <th></th>\n      <th></th>\n      <th></th>\n      <th></th>\n      <th></th>\n      <th></th>\n      <th></th>\n      <th></th>\n    </tr>\n  </thead>\n  <tbody>\n    <tr>\n      <th>Afghanistan</th>\n      <td>833.589231</td>\n      <td>432.4200</td>\n      <td>8.769231</td>\n      <td>8.0</td>\n      <td>210.011538</td>\n      <td>71.1750</td>\n      <td>88.470385</td>\n      <td>45.240</td>\n      <td>0.101345</td>\n      <td>0.090030</td>\n    </tr>\n    <tr>\n      <th>Albania</th>\n      <td>388.812000</td>\n      <td>296.6400</td>\n      <td>4.000000</td>\n      <td>2.5</td>\n      <td>70.932000</td>\n      <td>31.0650</td>\n      <td>70.057000</td>\n      <td>33.980</td>\n      <td>0.153373</td>\n      <td>0.104618</td>\n    </tr>\n    <tr>\n      <th>Algeria</th>\n      <td>383.953085</td>\n      <td>175.6050</td>\n      <td>4.829787</td>\n      <td>3.0</td>\n      <td>96.877660</td>\n      <td>29.5650</td>\n      <td>39.834149</td>\n      <td>19.825</td>\n      <td>0.109778</td>\n      <td>0.080292</td>\n    </tr>\n    <tr>\n      <th>Angola</th>\n      <td>425.900000</td>\n      <td>197.8800</td>\n      <td>5.283333</td>\n      <td>4.0</td>\n      <td>108.249500</td>\n      <td>48.0900</td>\n      <td>40.506667</td>\n      <td>18.030</td>\n      <td>0.108626</td>\n      <td>0.105584</td>\n    </tr>\n    <tr>\n      <th>Argentina</th>\n      <td>301.108813</td>\n      <td>161.1000</td>\n      <td>7.874346</td>\n      <td>5.0</td>\n      <td>-97.873281</td>\n      <td>-35.7480</td>\n      <td>33.645874</td>\n      <td>15.691</td>\n      <td>0.120616</td>\n      <td>0.098636</td>\n    </tr>\n    <tr>\n      <th>...</th>\n      <td>...</td>\n      <td>...</td>\n      <td>...</td>\n      <td>...</td>\n      <td>...</td>\n      <td>...</td>\n      <td>...</td>\n      <td>...</td>\n      <td>...</td>\n      <td>...</td>\n    </tr>\n    <tr>\n      <th>Vietnam</th>\n      <td>538.926164</td>\n      <td>314.0046</td>\n      <td>8.190083</td>\n      <td>6.0</td>\n      <td>-14.027390</td>\n      <td>10.6815</td>\n      <td>63.267273</td>\n      <td>27.950</td>\n      <td>0.116896</td>\n      <td>0.099234</td>\n    </tr>\n    <tr>\n      <th>Western Sahara</th>\n      <td>666.360000</td>\n      <td>666.3600</td>\n      <td>4.000000</td>\n      <td>4.0</td>\n      <td>300.420000</td>\n      <td>300.4200</td>\n      <td>72.520000</td>\n      <td>72.520</td>\n      <td>0.108830</td>\n      <td>0.108830</td>\n    </tr>\n    <tr>\n      <th>Yemen</th>\n      <td>224.155636</td>\n      <td>157.6350</td>\n      <td>6.454545</td>\n      <td>5.0</td>\n      <td>-336.950727</td>\n      <td>-241.8420</td>\n      <td>26.602727</td>\n      <td>24.020</td>\n      <td>0.141071</td>\n      <td>0.106509</td>\n    </tr>\n    <tr>\n      <th>Zambia</th>\n      <td>565.989130</td>\n      <td>304.1400</td>\n      <td>5.456522</td>\n      <td>3.5</td>\n      <td>152.211522</td>\n      <td>58.6950</td>\n      <td>66.830435</td>\n      <td>32.375</td>\n      <td>0.131857</td>\n      <td>0.114021</td>\n    </tr>\n    <tr>\n      <th>Zimbabwe</th>\n      <td>87.560581</td>\n      <td>25.5780</td>\n      <td>4.418605</td>\n      <td>2.0</td>\n      <td>-126.250814</td>\n      <td>-47.5800</td>\n      <td>11.726047</td>\n      <td>3.610</td>\n      <td>0.195400</td>\n      <td>0.169146</td>\n    </tr>\n  </tbody>\n</table>\n<p>165 rows × 10 columns</p>\n</div>"
     },
     "metadata": {},
     "execution_count": 52
    }
   ],
   "source": [
    "orders_stat = orders.loc[:, ['country', 'order_id', 'sales', 'quantity', 'profit', 'shipping_cost']]\n",
    "orders_stat2=orders_stat.groupby(['country', 'order_id'])[['sales', 'quantity', 'profit', 'shipping_cost']].sum()\n",
    "orders_stat2['shipping_share']=orders_stat2['shipping_cost']/orders_stat2['sales']\n",
    "orders_stat2\n",
    "orders_stat_aggr = orders_stat2.groupby (['country']).agg(['mean', 'median'])\n",
    "orders_stat_aggr"
   ]
  },
  {
   "cell_type": "markdown",
   "metadata": {},
   "source": [
    "### 1.6. Рейтинг по относительной доле затрат на доставку\n",
    "Рассчитайте для каждой строки (позиции) заказа долю затрат на доставку к выручке по этой строке. Для каждого рынка составьте рейтинг из 5 самых дорогих по стоимости доставке позиций. Чтобы их найти, посчитайте для каждой строки отличие доли затрат на доставку этой позиции к средней доле затрат на доставку для этого региона, товарной категории и класса доставки.\n",
    "\n",
    "**Подсказка:** для подсчета отличий по группам используйте `transform()`."
   ]
  },
  {
   "cell_type": "code",
   "execution_count": 8,
   "metadata": {},
   "outputs": [
    {
     "output_type": "execute_result",
     "data": {
      "text/plain": "             market           region         category       ship_mode  \\\n0              USCA       Central US       Technology     First Class   \n1      Asia Pacific          Oceania        Furniture    Second Class   \n2      Asia Pacific          Oceania       Technology     First Class   \n3            Europe   Western Europe       Technology     First Class   \n4            Africa   Western Africa       Technology        Same Day   \n...             ...              ...              ...             ...   \n51285  Asia Pacific     Eastern Asia  Office Supplies        Same Day   \n51286          USCA      Southern US        Furniture  Standard Class   \n51287          USCA       Western US  Office Supplies    Second Class   \n51288         LATAM    South America  Office Supplies  Standard Class   \n51289         LATAM  Central America  Office Supplies    Second Class   \n\n       shipping_cost     sales  shipping_share  delta_on_region  \\\n0             40.770   221.980        0.183665         0.030197   \n1            923.630  3709.395        0.248997         0.134282   \n2            915.490  5175.171        0.176900         0.062185   \n3            910.160  2892.510        0.314661         0.202441   \n4            903.040  2832.960        0.318762         0.164290   \n...              ...       ...             ...              ...   \n51285          1.010    65.100        0.015515        -0.099251   \n51286          1.930    16.720        0.115431        -0.024993   \n51287          1.580     8.560        0.184579         0.052249   \n51288          1.003    13.440        0.074628        -0.046535   \n51289          1.002    61.380        0.016325        -0.099604   \n\n       delta_on_category  delta_on_ship_mode  \n0               0.073245           -0.001928  \n1               0.138050            0.113029  \n2               0.066480           -0.008693  \n3               0.204241            0.129067  \n4               0.208342            0.130002  \n...                  ...                 ...  \n51285          -0.115327           -0.173245  \n51286           0.004484            0.017845  \n51287           0.053737            0.048611  \n51288          -0.056214           -0.022958  \n51289          -0.114517           -0.119644  \n\n[51290 rows x 10 columns]",
      "text/html": "<div>\n<style scoped>\n    .dataframe tbody tr th:only-of-type {\n        vertical-align: middle;\n    }\n\n    .dataframe tbody tr th {\n        vertical-align: top;\n    }\n\n    .dataframe thead th {\n        text-align: right;\n    }\n</style>\n<table border=\"1\" class=\"dataframe\">\n  <thead>\n    <tr style=\"text-align: right;\">\n      <th></th>\n      <th>market</th>\n      <th>region</th>\n      <th>category</th>\n      <th>ship_mode</th>\n      <th>shipping_cost</th>\n      <th>sales</th>\n      <th>shipping_share</th>\n      <th>delta_on_region</th>\n      <th>delta_on_category</th>\n      <th>delta_on_ship_mode</th>\n    </tr>\n  </thead>\n  <tbody>\n    <tr>\n      <th>0</th>\n      <td>USCA</td>\n      <td>Central US</td>\n      <td>Technology</td>\n      <td>First Class</td>\n      <td>40.770</td>\n      <td>221.980</td>\n      <td>0.183665</td>\n      <td>0.030197</td>\n      <td>0.073245</td>\n      <td>-0.001928</td>\n    </tr>\n    <tr>\n      <th>1</th>\n      <td>Asia Pacific</td>\n      <td>Oceania</td>\n      <td>Furniture</td>\n      <td>Second Class</td>\n      <td>923.630</td>\n      <td>3709.395</td>\n      <td>0.248997</td>\n      <td>0.134282</td>\n      <td>0.138050</td>\n      <td>0.113029</td>\n    </tr>\n    <tr>\n      <th>2</th>\n      <td>Asia Pacific</td>\n      <td>Oceania</td>\n      <td>Technology</td>\n      <td>First Class</td>\n      <td>915.490</td>\n      <td>5175.171</td>\n      <td>0.176900</td>\n      <td>0.062185</td>\n      <td>0.066480</td>\n      <td>-0.008693</td>\n    </tr>\n    <tr>\n      <th>3</th>\n      <td>Europe</td>\n      <td>Western Europe</td>\n      <td>Technology</td>\n      <td>First Class</td>\n      <td>910.160</td>\n      <td>2892.510</td>\n      <td>0.314661</td>\n      <td>0.202441</td>\n      <td>0.204241</td>\n      <td>0.129067</td>\n    </tr>\n    <tr>\n      <th>4</th>\n      <td>Africa</td>\n      <td>Western Africa</td>\n      <td>Technology</td>\n      <td>Same Day</td>\n      <td>903.040</td>\n      <td>2832.960</td>\n      <td>0.318762</td>\n      <td>0.164290</td>\n      <td>0.208342</td>\n      <td>0.130002</td>\n    </tr>\n    <tr>\n      <th>...</th>\n      <td>...</td>\n      <td>...</td>\n      <td>...</td>\n      <td>...</td>\n      <td>...</td>\n      <td>...</td>\n      <td>...</td>\n      <td>...</td>\n      <td>...</td>\n      <td>...</td>\n    </tr>\n    <tr>\n      <th>51285</th>\n      <td>Asia Pacific</td>\n      <td>Eastern Asia</td>\n      <td>Office Supplies</td>\n      <td>Same Day</td>\n      <td>1.010</td>\n      <td>65.100</td>\n      <td>0.015515</td>\n      <td>-0.099251</td>\n      <td>-0.115327</td>\n      <td>-0.173245</td>\n    </tr>\n    <tr>\n      <th>51286</th>\n      <td>USCA</td>\n      <td>Southern US</td>\n      <td>Furniture</td>\n      <td>Standard Class</td>\n      <td>1.930</td>\n      <td>16.720</td>\n      <td>0.115431</td>\n      <td>-0.024993</td>\n      <td>0.004484</td>\n      <td>0.017845</td>\n    </tr>\n    <tr>\n      <th>51287</th>\n      <td>USCA</td>\n      <td>Western US</td>\n      <td>Office Supplies</td>\n      <td>Second Class</td>\n      <td>1.580</td>\n      <td>8.560</td>\n      <td>0.184579</td>\n      <td>0.052249</td>\n      <td>0.053737</td>\n      <td>0.048611</td>\n    </tr>\n    <tr>\n      <th>51288</th>\n      <td>LATAM</td>\n      <td>South America</td>\n      <td>Office Supplies</td>\n      <td>Standard Class</td>\n      <td>1.003</td>\n      <td>13.440</td>\n      <td>0.074628</td>\n      <td>-0.046535</td>\n      <td>-0.056214</td>\n      <td>-0.022958</td>\n    </tr>\n    <tr>\n      <th>51289</th>\n      <td>LATAM</td>\n      <td>Central America</td>\n      <td>Office Supplies</td>\n      <td>Second Class</td>\n      <td>1.002</td>\n      <td>61.380</td>\n      <td>0.016325</td>\n      <td>-0.099604</td>\n      <td>-0.114517</td>\n      <td>-0.119644</td>\n    </tr>\n  </tbody>\n</table>\n<p>51290 rows × 10 columns</p>\n</div>"
     },
     "metadata": {},
     "execution_count": 8
    }
   ],
   "source": [
    "orders_stat = orders.loc[:, ['market', 'region', 'category', 'ship_mode', 'shipping_cost', 'sales']]\n",
    "orders_stat['shipping_share'] = orders_stat['shipping_cost']/orders_stat['sales']\n",
    "\n",
    "# отличие доли затрат на доставку этой позиции к средней доле затрат на доставку для этого региона\n",
    "orders_stat['delta_on_region'] = orders_stat.groupby('region')['shipping_share'].transform(lambda share: share - share.mean())\n",
    "\n",
    "# отличие доли затрат на доставку этой позиции к средней доле затрат на доставку для товарной категории\n",
    "orders_stat['delta_on_category'] = orders_stat.groupby('category')['shipping_share'].transform(lambda share: share - share.mean())\n",
    "\n",
    "# отличие доли затрат на доставку этой позиции к средней доле затрат на доставку для класса доставки\n",
    "orders_stat['delta_on_ship_mode'] = orders_stat.groupby('ship_mode')['shipping_share'].transform(lambda share: share - share.mean())\n",
    "\n",
    "orders_stat\n",
    "\n"
   ]
  },
  {
   "cell_type": "code",
   "execution_count": 12,
   "metadata": {},
   "outputs": [
    {
     "output_type": "execute_result",
     "data": {
      "text/plain": "              shipping_share\nmarket                      \nUSCA                0.140397\nAfrica              0.133487\nAsia Pacific        0.118333\nLATAM               0.117917\nEurope              0.113568",
      "text/html": "<div>\n<style scoped>\n    .dataframe tbody tr th:only-of-type {\n        vertical-align: middle;\n    }\n\n    .dataframe tbody tr th {\n        vertical-align: top;\n    }\n\n    .dataframe thead th {\n        text-align: right;\n    }\n</style>\n<table border=\"1\" class=\"dataframe\">\n  <thead>\n    <tr style=\"text-align: right;\">\n      <th></th>\n      <th>shipping_share</th>\n    </tr>\n    <tr>\n      <th>market</th>\n      <th></th>\n    </tr>\n  </thead>\n  <tbody>\n    <tr>\n      <th>USCA</th>\n      <td>0.140397</td>\n    </tr>\n    <tr>\n      <th>Africa</th>\n      <td>0.133487</td>\n    </tr>\n    <tr>\n      <th>Asia Pacific</th>\n      <td>0.118333</td>\n    </tr>\n    <tr>\n      <th>LATAM</th>\n      <td>0.117917</td>\n    </tr>\n    <tr>\n      <th>Europe</th>\n      <td>0.113568</td>\n    </tr>\n  </tbody>\n</table>\n</div>"
     },
     "metadata": {},
     "execution_count": 12
    }
   ],
   "source": [
    "# рейтинг из 5 самых дорогих по стоимости доставке позиций.\n",
    "# среднее значение shipping_share у каждого рынка\n",
    "orders_stat.groupby('market')[['shipping_share']].mean().sort_values(by='shipping_share', ascending=False)"
   ]
  },
  {
   "cell_type": "markdown",
   "metadata": {},
   "source": [
    "### 1.7. Сравните динамику продаж по годам различных товарных подкатегорий категории `Technology`.\n",
    "\n",
    "Попробуйте два способа: через `pivot_table()` и через `unstack()`.\n",
    "\n",
    "**Подсказка**: компоненты даты - например, год, месяц можно получить на основе столбца с датами с помощью атрибутов `dt.year`, `dt.month`, `dt.day`:"
   ]
  },
  {
   "cell_type": "code",
   "execution_count": 329,
   "metadata": {},
   "outputs": [
    {
     "output_type": "execute_result",
     "data": {
      "text/plain": "sub_category  order_date\nAccessories   2012-01-03      69.3000\n              2012-01-04     260.4000\n              2012-01-06      28.3200\n              2012-01-07     273.7020\n              2012-01-09     176.6808\n                              ...    \nPhones        2015-12-27     921.7680\n              2015-12-28     164.3880\n              2015-12-29     501.4920\n              2015-12-30     730.4880\n              2015-12-31    1387.8108\nName: sales, Length: 4009, dtype: float64"
     },
     "metadata": {},
     "execution_count": 329
    }
   ],
   "source": []
  },
  {
   "cell_type": "code",
   "execution_count": 334,
   "metadata": {},
   "outputs": [
    {
     "output_type": "execute_result",
     "data": {
      "text/plain": "                        sales                                         \norder_date_year          2012         2013          2014          2015\nsub_category                                                          \nAccessories      113456.00760  172397.6850  209895.16230  253488.16360\nCopiers          216367.89214  327168.5988  415514.88858  550384.89376\nMachines         160545.68140  159858.9511  198376.19870  260279.23590\nPhones           337282.48020  364016.2744  453519.00450  552006.38010",
      "text/html": "<div>\n<style scoped>\n    .dataframe tbody tr th:only-of-type {\n        vertical-align: middle;\n    }\n\n    .dataframe tbody tr th {\n        vertical-align: top;\n    }\n\n    .dataframe thead tr th {\n        text-align: left;\n    }\n\n    .dataframe thead tr:last-of-type th {\n        text-align: right;\n    }\n</style>\n<table border=\"1\" class=\"dataframe\">\n  <thead>\n    <tr>\n      <th></th>\n      <th colspan=\"4\" halign=\"left\">sales</th>\n    </tr>\n    <tr>\n      <th>order_date_year</th>\n      <th>2012</th>\n      <th>2013</th>\n      <th>2014</th>\n      <th>2015</th>\n    </tr>\n    <tr>\n      <th>sub_category</th>\n      <th></th>\n      <th></th>\n      <th></th>\n      <th></th>\n    </tr>\n  </thead>\n  <tbody>\n    <tr>\n      <th>Accessories</th>\n      <td>113456.00760</td>\n      <td>172397.6850</td>\n      <td>209895.16230</td>\n      <td>253488.16360</td>\n    </tr>\n    <tr>\n      <th>Copiers</th>\n      <td>216367.89214</td>\n      <td>327168.5988</td>\n      <td>415514.88858</td>\n      <td>550384.89376</td>\n    </tr>\n    <tr>\n      <th>Machines</th>\n      <td>160545.68140</td>\n      <td>159858.9511</td>\n      <td>198376.19870</td>\n      <td>260279.23590</td>\n    </tr>\n    <tr>\n      <th>Phones</th>\n      <td>337282.48020</td>\n      <td>364016.2744</td>\n      <td>453519.00450</td>\n      <td>552006.38010</td>\n    </tr>\n  </tbody>\n</table>\n</div>"
     },
     "metadata": {},
     "execution_count": 334
    }
   ],
   "source": [
    "# создаем таблицу только с категорией Technology\n",
    "technology = orders.query('category == \"Technology\"')[['sub_category', 'order_date', 'sales']]\n",
    "\n",
    "# преобразуем дату к году\n",
    "technology['order_date_year'] = technology['order_date'].apply(lambda x: x.year)\n",
    "\n",
    "# делаем pivot table и суммируем sales у каждого года \n",
    "technology.pivot_table(['sales'], index = 'sub_category', columns = 'order_date_year', aggfunc='sum')"
   ]
  },
  {
   "cell_type": "markdown",
   "metadata": {},
   "source": [
    "\n",
    "### 1.8. Сравните динамику продаж по годам товаров брендов Apple и Samsung"
   ]
  },
  {
   "cell_type": "code",
   "execution_count": 162,
   "metadata": {},
   "outputs": [
    {
     "output_type": "execute_result",
     "data": {
      "text/plain": "                      sales                                     \norder_date_year        2012        2013        2014         2015\nproduct_name                                                    \nApple            55043.0231  55651.0190  75997.9306  100064.8754\nSumsung          64614.7703  77837.1402  75650.7963   95905.7000",
      "text/html": "<div>\n<style scoped>\n    .dataframe tbody tr th:only-of-type {\n        vertical-align: middle;\n    }\n\n    .dataframe tbody tr th {\n        vertical-align: top;\n    }\n\n    .dataframe thead tr th {\n        text-align: left;\n    }\n\n    .dataframe thead tr:last-of-type th {\n        text-align: right;\n    }\n</style>\n<table border=\"1\" class=\"dataframe\">\n  <thead>\n    <tr>\n      <th></th>\n      <th colspan=\"4\" halign=\"left\">sales</th>\n    </tr>\n    <tr>\n      <th>order_date_year</th>\n      <th>2012</th>\n      <th>2013</th>\n      <th>2014</th>\n      <th>2015</th>\n    </tr>\n    <tr>\n      <th>product_name</th>\n      <th></th>\n      <th></th>\n      <th></th>\n      <th></th>\n    </tr>\n  </thead>\n  <tbody>\n    <tr>\n      <th>Apple</th>\n      <td>55043.0231</td>\n      <td>55651.0190</td>\n      <td>75997.9306</td>\n      <td>100064.8754</td>\n    </tr>\n    <tr>\n      <th>Sumsung</th>\n      <td>64614.7703</td>\n      <td>77837.1402</td>\n      <td>75650.7963</td>\n      <td>95905.7000</td>\n    </tr>\n  </tbody>\n</table>\n</div>"
     },
     "metadata": {},
     "execution_count": 162
    }
   ],
   "source": [
    "# убираем все, кроме Apple и Samsung\n",
    "samsung_and_apple = orders[orders['product_name'].str.startswith('Samsung') | orders['product_name'].str.startswith('Apple')]\n",
    "\n",
    "# меняем имя модели на Apple или Samsung\n",
    "samsung_and_apple['product_name'] = samsung_and_apple['product_name'].apply(lambda x: 'Sumsung' if x.startswith('S') else 'Apple')\n",
    "\n",
    "# создаем поле year\n",
    "samsung_and_apple['order_date_year'] = samsung_and_apple['order_date'].apply(lambda x: x.year)\n",
    "\n",
    "# суммируем все заказы по годам\n",
    "years_sales = samsung_and_apple[['product_name', 'sales', 'order_date_year']].groupby(['product_name', 'order_date_year'])[['sales']].sum()\n",
    "\n",
    "# создаем pivot table\n",
    "years_sales.pivot_table(index='product_name', columns='order_date_year')\n"
   ]
  },
  {
   "cell_type": "markdown",
   "metadata": {},
   "source": [
    "### 1.9. Составьте рейтинг стран по прибыли.\n",
    "В списке должны быть только страны, в которые отправлено более 500 заказов."
   ]
  },
  {
   "cell_type": "code",
   "execution_count": 336,
   "metadata": {},
   "outputs": [
    {
     "output_type": "execute_result",
     "data": {
      "text/plain": "                profit\ncountry               \nUnited States    286.4\nChina            150.7\nIndia            129.1\nUnited Kingdom   111.9\nFrance           109.0\nGermany          107.2\nAustralia        103.9\nMexico           102.5\nBrazil            29.7\nItaly             20.0\nIndonesia         15.6\nTurkey           -98.4",
      "text/html": "<div>\n<style scoped>\n    .dataframe tbody tr th:only-of-type {\n        vertical-align: middle;\n    }\n\n    .dataframe tbody tr th {\n        vertical-align: top;\n    }\n\n    .dataframe thead th {\n        text-align: right;\n    }\n</style>\n<table border=\"1\" class=\"dataframe\">\n  <thead>\n    <tr style=\"text-align: right;\">\n      <th></th>\n      <th>profit</th>\n    </tr>\n    <tr>\n      <th>country</th>\n      <th></th>\n    </tr>\n  </thead>\n  <tbody>\n    <tr>\n      <th>United States</th>\n      <td>286.4</td>\n    </tr>\n    <tr>\n      <th>China</th>\n      <td>150.7</td>\n    </tr>\n    <tr>\n      <th>India</th>\n      <td>129.1</td>\n    </tr>\n    <tr>\n      <th>United Kingdom</th>\n      <td>111.9</td>\n    </tr>\n    <tr>\n      <th>France</th>\n      <td>109.0</td>\n    </tr>\n    <tr>\n      <th>Germany</th>\n      <td>107.2</td>\n    </tr>\n    <tr>\n      <th>Australia</th>\n      <td>103.9</td>\n    </tr>\n    <tr>\n      <th>Mexico</th>\n      <td>102.5</td>\n    </tr>\n    <tr>\n      <th>Brazil</th>\n      <td>29.7</td>\n    </tr>\n    <tr>\n      <th>Italy</th>\n      <td>20.0</td>\n    </tr>\n    <tr>\n      <th>Indonesia</th>\n      <td>15.6</td>\n    </tr>\n    <tr>\n      <th>Turkey</th>\n      <td>-98.4</td>\n    </tr>\n  </tbody>\n</table>\n</div>"
     },
     "metadata": {},
     "execution_count": 336
    }
   ],
   "source": [
    "# убираем все \"непопулярные\" страны\n",
    "orders_with_popular_countries = orders.groupby('country').filter(lambda country: len(set(country['order_id'])) > 500)\n",
    "\n",
    "# сортируем страны по сумме profit\n",
    "counties_rating = orders_with_popular_countries.groupby('country')[['profit']].sum().sort_values(by='profit', ascending=False)\n",
    "\n",
    "# в тыс. руб.\n",
    "round(counties_rating/1000, 1)"
   ]
  },
  {
   "cell_type": "markdown",
   "metadata": {},
   "source": [
    "## Задание 2\n",
    "\n",
    "Дополним данные сведениями о том, какие заказы были возвращены."
   ]
  },
  {
   "cell_type": "code",
   "execution_count": 165,
   "metadata": {},
   "outputs": [
    {
     "output_type": "execute_result",
     "data": {
      "text/plain": "   returned                  order_id        region\n0      True  CA-2012-SA20830140-41210    Central US\n1      True  IN-2012-PB19210127-41259  Eastern Asia\n2      True  CA-2012-SC20095140-41174    Central US\n3      True    IN-2015-JH158207-42140       Oceania\n4      True    IN-2014-LC168857-41747       Oceania",
      "text/html": "<div>\n<style scoped>\n    .dataframe tbody tr th:only-of-type {\n        vertical-align: middle;\n    }\n\n    .dataframe tbody tr th {\n        vertical-align: top;\n    }\n\n    .dataframe thead th {\n        text-align: right;\n    }\n</style>\n<table border=\"1\" class=\"dataframe\">\n  <thead>\n    <tr style=\"text-align: right;\">\n      <th></th>\n      <th>returned</th>\n      <th>order_id</th>\n      <th>region</th>\n    </tr>\n  </thead>\n  <tbody>\n    <tr>\n      <th>0</th>\n      <td>True</td>\n      <td>CA-2012-SA20830140-41210</td>\n      <td>Central US</td>\n    </tr>\n    <tr>\n      <th>1</th>\n      <td>True</td>\n      <td>IN-2012-PB19210127-41259</td>\n      <td>Eastern Asia</td>\n    </tr>\n    <tr>\n      <th>2</th>\n      <td>True</td>\n      <td>CA-2012-SC20095140-41174</td>\n      <td>Central US</td>\n    </tr>\n    <tr>\n      <th>3</th>\n      <td>True</td>\n      <td>IN-2015-JH158207-42140</td>\n      <td>Oceania</td>\n    </tr>\n    <tr>\n      <th>4</th>\n      <td>True</td>\n      <td>IN-2014-LC168857-41747</td>\n      <td>Oceania</td>\n    </tr>\n  </tbody>\n</table>\n</div>"
     },
     "metadata": {},
     "execution_count": 165
    }
   ],
   "source": [
    "returns = pd.read_csv('../datasets/global_superstore/returns.csv')\n",
    "returns.head()"
   ]
  },
  {
   "cell_type": "code",
   "execution_count": 166,
   "metadata": {
    "tags": []
   },
   "outputs": [
    {
     "output_type": "stream",
     "name": "stdout",
     "text": "&lt;class &#39;pandas.core.frame.DataFrame&#39;&gt;\nRangeIndex: 1079 entries, 0 to 1078\nData columns (total 3 columns):\nreturned    1079 non-null bool\norder_id    1079 non-null object\nregion      1079 non-null object\ndtypes: bool(1), object(2)\nmemory usage: 18.0+ KB\n"
    }
   ],
   "source": [
    "returns.info()"
   ]
  },
  {
   "cell_type": "markdown",
   "metadata": {},
   "source": [
    "В таблице `returns` содержатся записи о тех заказах, которые были возвращены - номер заказа, регион и статус возврата.\n",
    "\n",
    "Довольно необычной особенностью этого набора данных является то, что номера заказов в нем не уникальны. Заказы с одинаковым номером могли быть зарегистрированы в разных регионах:"
   ]
  },
  {
   "cell_type": "code",
   "execution_count": 13,
   "metadata": {},
   "outputs": [
    {
     "data": {
      "text/html": [
       "<div>\n",
       "<style scoped>\n",
       "    .dataframe tbody tr th:only-of-type {\n",
       "        vertical-align: middle;\n",
       "    }\n",
       "\n",
       "    .dataframe tbody tr th {\n",
       "        vertical-align: top;\n",
       "    }\n",
       "\n",
       "    .dataframe thead th {\n",
       "        text-align: right;\n",
       "    }\n",
       "</style>\n",
       "<table border=\"1\" class=\"dataframe\">\n",
       "  <thead>\n",
       "    <tr style=\"text-align: right;\">\n",
       "      <th></th>\n",
       "      <th>order_id</th>\n",
       "      <th>region</th>\n",
       "    </tr>\n",
       "  </thead>\n",
       "  <tbody>\n",
       "    <tr>\n",
       "      <th>0</th>\n",
       "      <td>CA-2015-AG10330140-42361</td>\n",
       "      <td>Western US</td>\n",
       "    </tr>\n",
       "    <tr>\n",
       "      <th>1</th>\n",
       "      <td>CA-2015-AG10330140-42361</td>\n",
       "      <td>Central US</td>\n",
       "    </tr>\n",
       "    <tr>\n",
       "      <th>2</th>\n",
       "      <td>CA-2015-AG10330140-42361</td>\n",
       "      <td>Central US</td>\n",
       "    </tr>\n",
       "    <tr>\n",
       "      <th>3</th>\n",
       "      <td>CA-2015-AG10330140-42361</td>\n",
       "      <td>Central US</td>\n",
       "    </tr>\n",
       "    <tr>\n",
       "      <th>4</th>\n",
       "      <td>CA-2014-BW11200140-41940</td>\n",
       "      <td>Eastern US</td>\n",
       "    </tr>\n",
       "    <tr>\n",
       "      <th>5</th>\n",
       "      <td>CA-2014-BW11200140-41940</td>\n",
       "      <td>Southern US</td>\n",
       "    </tr>\n",
       "    <tr>\n",
       "      <th>6</th>\n",
       "      <td>CA-2014-BW11200140-41940</td>\n",
       "      <td>Eastern US</td>\n",
       "    </tr>\n",
       "    <tr>\n",
       "      <th>7</th>\n",
       "      <td>CA-2014-BW11200140-41940</td>\n",
       "      <td>Eastern US</td>\n",
       "    </tr>\n",
       "    <tr>\n",
       "      <th>8</th>\n",
       "      <td>CA-2014-BW11200140-41940</td>\n",
       "      <td>Eastern US</td>\n",
       "    </tr>\n",
       "    <tr>\n",
       "      <th>9</th>\n",
       "      <td>CA-2012-CS12355140-41135</td>\n",
       "      <td>Southern US</td>\n",
       "    </tr>\n",
       "    <tr>\n",
       "      <th>10</th>\n",
       "      <td>CA-2012-CS12355140-41135</td>\n",
       "      <td>Southern US</td>\n",
       "    </tr>\n",
       "    <tr>\n",
       "      <th>11</th>\n",
       "      <td>CA-2012-CS12355140-41135</td>\n",
       "      <td>Eastern US</td>\n",
       "    </tr>\n",
       "    <tr>\n",
       "      <th>12</th>\n",
       "      <td>CA-2013-EM13960140-41548</td>\n",
       "      <td>Western US</td>\n",
       "    </tr>\n",
       "    <tr>\n",
       "      <th>13</th>\n",
       "      <td>CA-2013-EM13960140-41548</td>\n",
       "      <td>Central US</td>\n",
       "    </tr>\n",
       "    <tr>\n",
       "      <th>14</th>\n",
       "      <td>CA-2013-EM13960140-41548</td>\n",
       "      <td>Central US</td>\n",
       "    </tr>\n",
       "    <tr>\n",
       "      <th>15</th>\n",
       "      <td>CA-2014-GT14710140-41689</td>\n",
       "      <td>Eastern US</td>\n",
       "    </tr>\n",
       "    <tr>\n",
       "      <th>16</th>\n",
       "      <td>CA-2014-GT14710140-41689</td>\n",
       "      <td>Western US</td>\n",
       "    </tr>\n",
       "    <tr>\n",
       "      <th>17</th>\n",
       "      <td>CA-2014-GT14710140-41689</td>\n",
       "      <td>Eastern US</td>\n",
       "    </tr>\n",
       "    <tr>\n",
       "      <th>18</th>\n",
       "      <td>CA-2015-HM14860140-42221</td>\n",
       "      <td>Western US</td>\n",
       "    </tr>\n",
       "    <tr>\n",
       "      <th>19</th>\n",
       "      <td>CA-2015-HM14860140-42221</td>\n",
       "      <td>Central US</td>\n",
       "    </tr>\n",
       "    <tr>\n",
       "      <th>20</th>\n",
       "      <td>CA-2015-HM14860140-42221</td>\n",
       "      <td>Western US</td>\n",
       "    </tr>\n",
       "    <tr>\n",
       "      <th>21</th>\n",
       "      <td>CA-2014-JG15160140-41979</td>\n",
       "      <td>Southern US</td>\n",
       "    </tr>\n",
       "    <tr>\n",
       "      <th>22</th>\n",
       "      <td>CA-2014-JG15160140-41979</td>\n",
       "      <td>Eastern US</td>\n",
       "    </tr>\n",
       "    <tr>\n",
       "      <th>23</th>\n",
       "      <td>CA-2014-JE15715140-41999</td>\n",
       "      <td>Eastern US</td>\n",
       "    </tr>\n",
       "    <tr>\n",
       "      <th>24</th>\n",
       "      <td>CA-2014-JE15715140-41999</td>\n",
       "      <td>Western US</td>\n",
       "    </tr>\n",
       "    <tr>\n",
       "      <th>25</th>\n",
       "      <td>CA-2014-JE15715140-41999</td>\n",
       "      <td>Western US</td>\n",
       "    </tr>\n",
       "    <tr>\n",
       "      <th>26</th>\n",
       "      <td>CA-2013-KB16240140-41585</td>\n",
       "      <td>Western US</td>\n",
       "    </tr>\n",
       "    <tr>\n",
       "      <th>27</th>\n",
       "      <td>CA-2013-KB16240140-41585</td>\n",
       "      <td>Eastern US</td>\n",
       "    </tr>\n",
       "    <tr>\n",
       "      <th>28</th>\n",
       "      <td>CA-2013-PJ18835140-41592</td>\n",
       "      <td>Southern US</td>\n",
       "    </tr>\n",
       "    <tr>\n",
       "      <th>29</th>\n",
       "      <td>CA-2013-PJ18835140-41592</td>\n",
       "      <td>Southern US</td>\n",
       "    </tr>\n",
       "    <tr>\n",
       "      <th>30</th>\n",
       "      <td>CA-2013-PJ18835140-41592</td>\n",
       "      <td>Eastern US</td>\n",
       "    </tr>\n",
       "    <tr>\n",
       "      <th>31</th>\n",
       "      <td>CA-2013-PJ18835140-41592</td>\n",
       "      <td>Eastern US</td>\n",
       "    </tr>\n",
       "    <tr>\n",
       "      <th>32</th>\n",
       "      <td>CA-2013-PJ18835140-41592</td>\n",
       "      <td>Eastern US</td>\n",
       "    </tr>\n",
       "    <tr>\n",
       "      <th>33</th>\n",
       "      <td>CA-2015-RD19585140-42189</td>\n",
       "      <td>Central US</td>\n",
       "    </tr>\n",
       "    <tr>\n",
       "      <th>34</th>\n",
       "      <td>CA-2015-RD19585140-42189</td>\n",
       "      <td>Western US</td>\n",
       "    </tr>\n",
       "  </tbody>\n",
       "</table>\n",
       "</div>"
      ],
      "text/plain": [
       "                    order_id       region\n",
       "0   CA-2015-AG10330140-42361   Western US\n",
       "1   CA-2015-AG10330140-42361   Central US\n",
       "2   CA-2015-AG10330140-42361   Central US\n",
       "3   CA-2015-AG10330140-42361   Central US\n",
       "4   CA-2014-BW11200140-41940   Eastern US\n",
       "5   CA-2014-BW11200140-41940  Southern US\n",
       "6   CA-2014-BW11200140-41940   Eastern US\n",
       "7   CA-2014-BW11200140-41940   Eastern US\n",
       "8   CA-2014-BW11200140-41940   Eastern US\n",
       "9   CA-2012-CS12355140-41135  Southern US\n",
       "10  CA-2012-CS12355140-41135  Southern US\n",
       "11  CA-2012-CS12355140-41135   Eastern US\n",
       "12  CA-2013-EM13960140-41548   Western US\n",
       "13  CA-2013-EM13960140-41548   Central US\n",
       "14  CA-2013-EM13960140-41548   Central US\n",
       "15  CA-2014-GT14710140-41689   Eastern US\n",
       "16  CA-2014-GT14710140-41689   Western US\n",
       "17  CA-2014-GT14710140-41689   Eastern US\n",
       "18  CA-2015-HM14860140-42221   Western US\n",
       "19  CA-2015-HM14860140-42221   Central US\n",
       "20  CA-2015-HM14860140-42221   Western US\n",
       "21  CA-2014-JG15160140-41979  Southern US\n",
       "22  CA-2014-JG15160140-41979   Eastern US\n",
       "23  CA-2014-JE15715140-41999   Eastern US\n",
       "24  CA-2014-JE15715140-41999   Western US\n",
       "25  CA-2014-JE15715140-41999   Western US\n",
       "26  CA-2013-KB16240140-41585   Western US\n",
       "27  CA-2013-KB16240140-41585   Eastern US\n",
       "28  CA-2013-PJ18835140-41592  Southern US\n",
       "29  CA-2013-PJ18835140-41592  Southern US\n",
       "30  CA-2013-PJ18835140-41592   Eastern US\n",
       "31  CA-2013-PJ18835140-41592   Eastern US\n",
       "32  CA-2013-PJ18835140-41592   Eastern US\n",
       "33  CA-2015-RD19585140-42189   Central US\n",
       "34  CA-2015-RD19585140-42189   Western US"
      ]
     },
     "execution_count": 13,
     "metadata": {},
     "output_type": "execute_result"
    }
   ],
   "source": [
    "(orders[['order_id', 'region']]\n",
    " .groupby('order_id',)\n",
    " .filter(lambda grp: grp['region'].nunique() >1)\n",
    " .reset_index(drop=True))"
   ]
  },
  {
   "cell_type": "markdown",
   "metadata": {},
   "source": [
    "По этой причине соединять таблицы необходимо по двум ключам - `order_id` и `region`.\n",
    "\n",
    "Попробуем соединить таблицы: "
   ]
  },
  {
   "cell_type": "code",
   "execution_count": 187,
   "metadata": {},
   "outputs": [
    {
     "output_type": "execute_result",
     "data": {
      "text/plain": "(2202, 25)"
     },
     "metadata": {},
     "execution_count": 187
    }
   ],
   "source": [
    "orders_returns = orders.merge(returns, on=['order_id', 'region']) # лучше явно указать ключи\n",
    "orders_returns.shape"
   ]
  },
  {
   "cell_type": "markdown",
   "metadata": {},
   "source": [
    "Строк получилось очень мало. В исходном наборе было более 50 тысяч строк:"
   ]
  },
  {
   "cell_type": "markdown",
   "metadata": {},
   "source": [
    "### 2.1. Почему пропали строки? \n",
    "Исправьте аргументы `merge()`, чтобы задать правильный тип соединения."
   ]
  },
  {
   "cell_type": "code",
   "execution_count": 313,
   "metadata": {},
   "outputs": [
    {
     "output_type": "execute_result",
     "data": {
      "text/plain": "(51290, 25)"
     },
     "metadata": {},
     "execution_count": 313
    }
   ],
   "source": [
    "# нужно указать другой вид соединения\n",
    "orders_returns = orders.merge(returns, on=['order_id', 'region'], how='left')\n",
    "orders_returns.shape"
   ]
  },
  {
   "cell_type": "markdown",
   "metadata": {},
   "source": [
    "### 2.2. Составьте рейтинг регионов по убыванию доли возвращенных заказов."
   ]
  },
  {
   "cell_type": "code",
   "execution_count": 314,
   "metadata": {},
   "outputs": [
    {
     "output_type": "execute_result",
     "data": {
      "text/plain": "                   Доля возвращенных заказов\nregion                                      \nWestern US                          0.055261\nEastern Asia                        0.055181\nSouthern Europe                     0.053005\nSouthern Africa                     0.052301\nSouthern US                         0.051235\nEastern US                          0.047051\nSoutheastern Asia                   0.044743\nSouth America                       0.044511\nWestern Asia                        0.044262\nOceania                             0.044164\nCentral America                     0.044160\nSouthern Asia                       0.041808\nCentral Asia                        0.041475\nWestern Africa                      0.041096\nCaribbean                           0.040828\nNorth Africa                        0.039906\nWestern Europe                      0.039606\nNorthern Europe                     0.034483\nCentral US                          0.030564\nEastern Europe                      0.027469\nCentral Africa                      0.026439\nEastern Africa                      0.024725\nCanada                              0.000000",
      "text/html": "<div>\n<style scoped>\n    .dataframe tbody tr th:only-of-type {\n        vertical-align: middle;\n    }\n\n    .dataframe tbody tr th {\n        vertical-align: top;\n    }\n\n    .dataframe thead th {\n        text-align: right;\n    }\n</style>\n<table border=\"1\" class=\"dataframe\">\n  <thead>\n    <tr style=\"text-align: right;\">\n      <th></th>\n      <th>Доля возвращенных заказов</th>\n    </tr>\n    <tr>\n      <th>region</th>\n      <th></th>\n    </tr>\n  </thead>\n  <tbody>\n    <tr>\n      <th>Western US</th>\n      <td>0.055261</td>\n    </tr>\n    <tr>\n      <th>Eastern Asia</th>\n      <td>0.055181</td>\n    </tr>\n    <tr>\n      <th>Southern Europe</th>\n      <td>0.053005</td>\n    </tr>\n    <tr>\n      <th>Southern Africa</th>\n      <td>0.052301</td>\n    </tr>\n    <tr>\n      <th>Southern US</th>\n      <td>0.051235</td>\n    </tr>\n    <tr>\n      <th>Eastern US</th>\n      <td>0.047051</td>\n    </tr>\n    <tr>\n      <th>Southeastern Asia</th>\n      <td>0.044743</td>\n    </tr>\n    <tr>\n      <th>South America</th>\n      <td>0.044511</td>\n    </tr>\n    <tr>\n      <th>Western Asia</th>\n      <td>0.044262</td>\n    </tr>\n    <tr>\n      <th>Oceania</th>\n      <td>0.044164</td>\n    </tr>\n    <tr>\n      <th>Central America</th>\n      <td>0.044160</td>\n    </tr>\n    <tr>\n      <th>Southern Asia</th>\n      <td>0.041808</td>\n    </tr>\n    <tr>\n      <th>Central Asia</th>\n      <td>0.041475</td>\n    </tr>\n    <tr>\n      <th>Western Africa</th>\n      <td>0.041096</td>\n    </tr>\n    <tr>\n      <th>Caribbean</th>\n      <td>0.040828</td>\n    </tr>\n    <tr>\n      <th>North Africa</th>\n      <td>0.039906</td>\n    </tr>\n    <tr>\n      <th>Western Europe</th>\n      <td>0.039606</td>\n    </tr>\n    <tr>\n      <th>Northern Europe</th>\n      <td>0.034483</td>\n    </tr>\n    <tr>\n      <th>Central US</th>\n      <td>0.030564</td>\n    </tr>\n    <tr>\n      <th>Eastern Europe</th>\n      <td>0.027469</td>\n    </tr>\n    <tr>\n      <th>Central Africa</th>\n      <td>0.026439</td>\n    </tr>\n    <tr>\n      <th>Eastern Africa</th>\n      <td>0.024725</td>\n    </tr>\n    <tr>\n      <th>Canada</th>\n      <td>0.000000</td>\n    </tr>\n  </tbody>\n</table>\n</div>"
     },
     "metadata": {},
     "execution_count": 314
    }
   ],
   "source": [
    "# так как True это 1 а False это 0, то количество возвратов это просто сумма ряда returned\n",
    "amount_of_returned_orders = orders_returns.groupby('region')['returned'].sum()\n",
    "amount_of_orders = orders_returns.groupby('region').size()\n",
    "\n",
    "returned_share = amount_of_returned_orders / amount_of_orders\n",
    "returned_share.name = 'Доля возвращенных заказов'\n",
    "returned_share.sort_values(ascending=False).to_frame()\n"
   ]
  },
  {
   "cell_type": "markdown",
   "metadata": {},
   "source": [
    "### 2.3. Рейтинг менеджеров\n",
    "\n",
    "В еще одной таблице - `people` - содержатся данные о менеджерах, которые руководят продажами в различных регионах:"
   ]
  },
  {
   "cell_type": "code",
   "execution_count": 237,
   "metadata": {},
   "outputs": [
    {
     "output_type": "execute_result",
     "data": {
      "text/plain": "              person           region\n0  Marilène Rousseau        Caribbean\n1   Andile Ihejirika   Central Africa\n2  Nicodemo Bautista  Central America\n3     Cansu Peynirci     Central Asia\n4         Lon Bonher       Central US",
      "text/html": "<div>\n<style scoped>\n    .dataframe tbody tr th:only-of-type {\n        vertical-align: middle;\n    }\n\n    .dataframe tbody tr th {\n        vertical-align: top;\n    }\n\n    .dataframe thead th {\n        text-align: right;\n    }\n</style>\n<table border=\"1\" class=\"dataframe\">\n  <thead>\n    <tr style=\"text-align: right;\">\n      <th></th>\n      <th>person</th>\n      <th>region</th>\n    </tr>\n  </thead>\n  <tbody>\n    <tr>\n      <th>0</th>\n      <td>Marilène Rousseau</td>\n      <td>Caribbean</td>\n    </tr>\n    <tr>\n      <th>1</th>\n      <td>Andile Ihejirika</td>\n      <td>Central Africa</td>\n    </tr>\n    <tr>\n      <th>2</th>\n      <td>Nicodemo Bautista</td>\n      <td>Central America</td>\n    </tr>\n    <tr>\n      <th>3</th>\n      <td>Cansu Peynirci</td>\n      <td>Central Asia</td>\n    </tr>\n    <tr>\n      <th>4</th>\n      <td>Lon Bonher</td>\n      <td>Central US</td>\n    </tr>\n  </tbody>\n</table>\n</div>"
     },
     "metadata": {},
     "execution_count": 237
    }
   ],
   "source": [
    "people = pd.read_csv('../datasets/global_superstore/people.csv')\n",
    "people.head()"
   ]
  },
  {
   "cell_type": "code",
   "execution_count": 307,
   "metadata": {},
   "outputs": [
    {
     "output_type": "execute_result",
     "data": {
      "text/plain": "True"
     },
     "metadata": {},
     "execution_count": 307
    }
   ],
   "source": [
    "# в таблице все регионы уникальны\n",
    "people.region.nunique() == len(people.region)"
   ]
  },
  {
   "cell_type": "markdown",
   "metadata": {},
   "source": [
    "Соедините таблицу `orders` с этими данными и выведите рейтинг менеджеров по прибыли."
   ]
  },
  {
   "cell_type": "code",
   "execution_count": 306,
   "metadata": {},
   "outputs": [
    {
     "output_type": "execute_result",
     "data": {
      "text/plain": "                      profit\nperson                      \nGilbert Wolff          218.4\nHadia Bousaid          167.1\nChandrakant Chaudhri   159.3\nNicodemo Bautista      159.0\nKauri Anaru            120.1\nDerrick Snyders        108.4\nDolores Davis           91.5\nMiina Nylund            83.9\nOxana Lagunov           77.1\nGavino Bove             70.1\nLindiwe Afolayan        57.8\nFlannery Newton         46.7\nLon Bonher              39.7\nAndile Ihejirika        35.4\nMarilène Rousseau       34.6\nVasco Magalhães         28.1\nNora Cuijper            24.2\nWasswa Ahmed            21.9\nPreecha Metharom        17.9\nCansu Peynirci          -7.3\nKatlego Akosua         -50.4\nKaoru Xun              -53.9",
      "text/html": "<div>\n<style scoped>\n    .dataframe tbody tr th:only-of-type {\n        vertical-align: middle;\n    }\n\n    .dataframe tbody tr th {\n        vertical-align: top;\n    }\n\n    .dataframe thead th {\n        text-align: right;\n    }\n</style>\n<table border=\"1\" class=\"dataframe\">\n  <thead>\n    <tr style=\"text-align: right;\">\n      <th></th>\n      <th>profit</th>\n    </tr>\n    <tr>\n      <th>person</th>\n      <th></th>\n    </tr>\n  </thead>\n  <tbody>\n    <tr>\n      <th>Gilbert Wolff</th>\n      <td>218.4</td>\n    </tr>\n    <tr>\n      <th>Hadia Bousaid</th>\n      <td>167.1</td>\n    </tr>\n    <tr>\n      <th>Chandrakant Chaudhri</th>\n      <td>159.3</td>\n    </tr>\n    <tr>\n      <th>Nicodemo Bautista</th>\n      <td>159.0</td>\n    </tr>\n    <tr>\n      <th>Kauri Anaru</th>\n      <td>120.1</td>\n    </tr>\n    <tr>\n      <th>Derrick Snyders</th>\n      <td>108.4</td>\n    </tr>\n    <tr>\n      <th>Dolores Davis</th>\n      <td>91.5</td>\n    </tr>\n    <tr>\n      <th>Miina Nylund</th>\n      <td>83.9</td>\n    </tr>\n    <tr>\n      <th>Oxana Lagunov</th>\n      <td>77.1</td>\n    </tr>\n    <tr>\n      <th>Gavino Bove</th>\n      <td>70.1</td>\n    </tr>\n    <tr>\n      <th>Lindiwe Afolayan</th>\n      <td>57.8</td>\n    </tr>\n    <tr>\n      <th>Flannery Newton</th>\n      <td>46.7</td>\n    </tr>\n    <tr>\n      <th>Lon Bonher</th>\n      <td>39.7</td>\n    </tr>\n    <tr>\n      <th>Andile Ihejirika</th>\n      <td>35.4</td>\n    </tr>\n    <tr>\n      <th>Marilène Rousseau</th>\n      <td>34.6</td>\n    </tr>\n    <tr>\n      <th>Vasco Magalhães</th>\n      <td>28.1</td>\n    </tr>\n    <tr>\n      <th>Nora Cuijper</th>\n      <td>24.2</td>\n    </tr>\n    <tr>\n      <th>Wasswa Ahmed</th>\n      <td>21.9</td>\n    </tr>\n    <tr>\n      <th>Preecha Metharom</th>\n      <td>17.9</td>\n    </tr>\n    <tr>\n      <th>Cansu Peynirci</th>\n      <td>-7.3</td>\n    </tr>\n    <tr>\n      <th>Katlego Akosua</th>\n      <td>-50.4</td>\n    </tr>\n    <tr>\n      <th>Kaoru Xun</th>\n      <td>-53.9</td>\n    </tr>\n  </tbody>\n</table>\n</div>"
     },
     "metadata": {},
     "execution_count": 306
    }
   ],
   "source": [
    "orders_with_persons = orders.merge(people, on=['region'], how='left')\n",
    "\n",
    "# на всякий случай посмотрим у каких регионов нет менеджера\n",
    "orders_with_persons[orders_with_persons['person'].isna()][['region']].groupby('region').groups.keys() # == ['Canada'] значит только у Канады, не страшно\n",
    "\n",
    "# в тыч. руб.\n",
    "round(orders_with_persons.groupby('person')[['profit']].sum().sort_values(by='profit',ascending=False)/1000, 1)"
   ]
  },
  {
   "cell_type": "markdown",
   "metadata": {},
   "source": [
    "### 2.4. Объединение таблиц\n",
    "На основе таблицы `orders` определите три самые прибыльные товарные подкатегории на рынке США и сохраните их в таблице `best_usa`. Затем на основе этой же таблицы определите три самые прибыльные подкатегории на рынке Европы и сохраните их в таблице `best_europe`. Затем объедините данные из таблиц `best_usa` и `best_europe` в одной таблице."
   ]
  },
  {
   "cell_type": "code",
   "execution_count": 300,
   "metadata": {},
   "outputs": [],
   "source": [
    "# уберем из таблицы все кроме US\n",
    "usa_only = orders[orders['region'].str.contains('US')]\n",
    "# первые 3 по profit\n",
    "best_usa = usa_only.groupby('sub_category')[['profit']].sum().nlargest(3, 'profit')\n",
    "\n",
    "# уберем из таблицы все кроме Europe\n",
    "europe_only = orders[orders['region'].str.contains('Europe')]\n",
    "# первые 3 по profit\n",
    "best_europe = europe_only.groupby('sub_category')[['profit']].sum().nlargest(3, 'profit') \n",
    "\n",
    "# изменим имя для удобства\n",
    "best_usa = best_usa.rename({'profit':'USA profit'}, axis='columns')\n",
    "best_europe = best_europe.rename({'profit': 'Europe profit'}, axis='columns')\n",
    "\n"
   ]
  },
  {
   "cell_type": "code",
   "execution_count": 303,
   "metadata": {},
   "outputs": [
    {
     "output_type": "execute_result",
     "data": {
      "text/plain": "              Europe profit  USA profit\nsub_category                           \nCopiers                 NaN  55617.8249\nPhones                  NaN  44515.7306\nAccessories             NaN  41936.6357\nBookcases         68138.595         NaN\nCopiers           62994.864         NaN\nAppliances        52963.110         NaN",
      "text/html": "<div>\n<style scoped>\n    .dataframe tbody tr th:only-of-type {\n        vertical-align: middle;\n    }\n\n    .dataframe tbody tr th {\n        vertical-align: top;\n    }\n\n    .dataframe thead th {\n        text-align: right;\n    }\n</style>\n<table border=\"1\" class=\"dataframe\">\n  <thead>\n    <tr style=\"text-align: right;\">\n      <th></th>\n      <th>Europe profit</th>\n      <th>USA profit</th>\n    </tr>\n    <tr>\n      <th>sub_category</th>\n      <th></th>\n      <th></th>\n    </tr>\n  </thead>\n  <tbody>\n    <tr>\n      <th>Copiers</th>\n      <td>NaN</td>\n      <td>55617.8249</td>\n    </tr>\n    <tr>\n      <th>Phones</th>\n      <td>NaN</td>\n      <td>44515.7306</td>\n    </tr>\n    <tr>\n      <th>Accessories</th>\n      <td>NaN</td>\n      <td>41936.6357</td>\n    </tr>\n    <tr>\n      <th>Bookcases</th>\n      <td>68138.595</td>\n      <td>NaN</td>\n    </tr>\n    <tr>\n      <th>Copiers</th>\n      <td>62994.864</td>\n      <td>NaN</td>\n    </tr>\n    <tr>\n      <th>Appliances</th>\n      <td>52963.110</td>\n      <td>NaN</td>\n    </tr>\n  </tbody>\n</table>\n</div>"
     },
     "metadata": {},
     "execution_count": 303
    }
   ],
   "source": [
    "# разные виды объединения\n",
    "pd.concat([best_usa, best_europe], axis='columns')"
   ]
  },
  {
   "cell_type": "code",
   "execution_count": 302,
   "metadata": {},
   "outputs": [
    {
     "output_type": "execute_result",
     "data": {
      "text/plain": "  sub_category  USA profit sub_category  Europe profit\n0      Copiers  55617.8249    Bookcases      68138.595\n1       Phones  44515.7306      Copiers      62994.864\n2  Accessories  41936.6357   Appliances      52963.110",
      "text/html": "<div>\n<style scoped>\n    .dataframe tbody tr th:only-of-type {\n        vertical-align: middle;\n    }\n\n    .dataframe tbody tr th {\n        vertical-align: top;\n    }\n\n    .dataframe thead th {\n        text-align: right;\n    }\n</style>\n<table border=\"1\" class=\"dataframe\">\n  <thead>\n    <tr style=\"text-align: right;\">\n      <th></th>\n      <th>sub_category</th>\n      <th>USA profit</th>\n      <th>sub_category</th>\n      <th>Europe profit</th>\n    </tr>\n  </thead>\n  <tbody>\n    <tr>\n      <th>0</th>\n      <td>Copiers</td>\n      <td>55617.8249</td>\n      <td>Bookcases</td>\n      <td>68138.595</td>\n    </tr>\n    <tr>\n      <th>1</th>\n      <td>Phones</td>\n      <td>44515.7306</td>\n      <td>Copiers</td>\n      <td>62994.864</td>\n    </tr>\n    <tr>\n      <th>2</th>\n      <td>Accessories</td>\n      <td>41936.6357</td>\n      <td>Appliances</td>\n      <td>52963.110</td>\n    </tr>\n  </tbody>\n</table>\n</div>"
     },
     "metadata": {},
     "execution_count": 302
    }
   ],
   "source": [
    "pd.concat([best_usa.reset_index(), best_europe.reset_index()], axis='columns')"
   ]
  },
  {
   "cell_type": "code",
   "execution_count": 304,
   "metadata": {},
   "outputs": [
    {
     "output_type": "execute_result",
     "data": {
      "text/plain": "              Europe profit  USA profit\nsub_category                           \nCopiers                 NaN  55617.8249\nPhones                  NaN  44515.7306\nAccessories             NaN  41936.6357\nBookcases         68138.595         NaN\nCopiers           62994.864         NaN\nAppliances        52963.110         NaN",
      "text/html": "<div>\n<style scoped>\n    .dataframe tbody tr th:only-of-type {\n        vertical-align: middle;\n    }\n\n    .dataframe tbody tr th {\n        vertical-align: top;\n    }\n\n    .dataframe thead th {\n        text-align: right;\n    }\n</style>\n<table border=\"1\" class=\"dataframe\">\n  <thead>\n    <tr style=\"text-align: right;\">\n      <th></th>\n      <th>Europe profit</th>\n      <th>USA profit</th>\n    </tr>\n    <tr>\n      <th>sub_category</th>\n      <th></th>\n      <th></th>\n    </tr>\n  </thead>\n  <tbody>\n    <tr>\n      <th>Copiers</th>\n      <td>NaN</td>\n      <td>55617.8249</td>\n    </tr>\n    <tr>\n      <th>Phones</th>\n      <td>NaN</td>\n      <td>44515.7306</td>\n    </tr>\n    <tr>\n      <th>Accessories</th>\n      <td>NaN</td>\n      <td>41936.6357</td>\n    </tr>\n    <tr>\n      <th>Bookcases</th>\n      <td>68138.595</td>\n      <td>NaN</td>\n    </tr>\n    <tr>\n      <th>Copiers</th>\n      <td>62994.864</td>\n      <td>NaN</td>\n    </tr>\n    <tr>\n      <th>Appliances</th>\n      <td>52963.110</td>\n      <td>NaN</td>\n    </tr>\n  </tbody>\n</table>\n</div>"
     },
     "metadata": {},
     "execution_count": 304
    }
   ],
   "source": [
    "pd.concat([best_usa, best_europe], axis='rows')"
   ]
  }
 ],
 "metadata": {
  "kernelspec": {
   "display_name": "Python 3",
   "language": "python",
   "name": "python3"
  },
  "language_info": {
   "codemirror_mode": {
    "name": "ipython",
    "version": 3
   },
   "file_extension": ".py",
   "mimetype": "text/x-python",
   "name": "python",
   "nbconvert_exporter": "python",
   "pygments_lexer": "ipython3",
   "version": "3.6.9-final"
  }
 },
 "nbformat": 4,
 "nbformat_minor": 4
}